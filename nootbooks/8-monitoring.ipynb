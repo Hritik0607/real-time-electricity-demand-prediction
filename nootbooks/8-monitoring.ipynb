{
 "cells": [
  {
   "cell_type": "code",
   "execution_count": 1,
   "metadata": {},
   "outputs": [],
   "source": [
    "from datetime import datetime, timedelta\n",
    "import pandas as pd\n",
    "import sys\n",
    "import os\n",
    "\n",
    "sys.path.append(os.path.abspath(os.path.join(os.getcwd(), \"..\")))\n",
    "\n",
    "from src.component.monitoring import load_predictions_and_actual_values_from_store\n",
    "\n"
   ]
  },
  {
   "cell_type": "code",
   "execution_count": null,
   "metadata": {},
   "outputs": [
    {
     "data": {
      "text/plain": [
       "Timestamp('2025-04-05 13:00:00+0000', tz='UTC')"
      ]
     },
     "execution_count": 2,
     "metadata": {},
     "output_type": "execute_result"
    }
   ],
   "source": [
    "\n",
    "current_date = pd.to_datetime(datetime.utcnow(), utc=True).floor('H') - timedelta(hours=1)\n",
    "current_date"
   ]
  },
  {
   "cell_type": "code",
   "execution_count": 3,
   "metadata": {},
   "outputs": [
    {
     "name": "stdout",
     "output_type": "stream",
     "text": [
      "2025-03-22 13:00:00+00:00\n",
      "2025-04-05 13:00:00+00:00\n",
      "HOPSWORKS_PROJECT_NAME:  energy_demand_prediction\n",
      "2025-04-05 18:57:30,785 INFO: Initializing external client\n",
      "2025-04-05 18:57:30,786 INFO: Base URL: https://c.app.hopsworks.ai:443\n",
      "2025-04-05 18:57:32,463 WARNING: UserWarning: The installed hopsworks client version 4.1.8 may not be compatible with the connected Hopsworks backend version 4.2.0. \n",
      "To ensure compatibility please install the latest bug fix release matching the minor version of your backend (4.2) by running 'pip install hopsworks==4.2.*'\n",
      "\n"
     ]
    },
    {
     "name": "stderr",
     "output_type": "stream",
     "text": [
      "\n",
      "\n"
     ]
    },
    {
     "name": "stdout",
     "output_type": "stream",
     "text": [
      "2025-04-05 18:57:34,368 INFO: Python Engine initialized.\n",
      "\n",
      "Logged in to project, explore it here https://c.app.hopsworks.ai:443/p/1213640\n",
      "HOPSWORKS_PROJECT_NAME:  energy_demand_prediction\n",
      "2025-04-05 18:57:37,895 INFO: Closing external client and cleaning up certificates.\n",
      "Connection closed.\n",
      "2025-04-05 18:57:37,907 INFO: Initializing external client\n",
      "2025-04-05 18:57:37,908 INFO: Base URL: https://c.app.hopsworks.ai:443\n"
     ]
    },
    {
     "name": "stderr",
     "output_type": "stream",
     "text": [
      "\n",
      "\n"
     ]
    },
    {
     "name": "stdout",
     "output_type": "stream",
     "text": [
      "2025-04-05 18:57:40,557 INFO: Python Engine initialized.\n",
      "\n",
      "Logged in to project, explore it here https://c.app.hopsworks.ai:443/p/1213640\n",
      "HOPSWORKS_PROJECT_NAME:  energy_demand_prediction\n",
      "2025-04-05 18:57:44,038 INFO: Closing external client and cleaning up certificates.\n",
      "Connection closed.\n",
      "2025-04-05 18:57:44,049 INFO: Initializing external client\n",
      "2025-04-05 18:57:44,050 INFO: Base URL: https://c.app.hopsworks.ai:443\n"
     ]
    },
    {
     "name": "stderr",
     "output_type": "stream",
     "text": [
      "\n",
      "\n"
     ]
    },
    {
     "name": "stdout",
     "output_type": "stream",
     "text": [
      "2025-04-05 18:57:46,969 INFO: Python Engine initialized.\n",
      "\n",
      "Logged in to project, explore it here https://c.app.hopsworks.ai:443/p/1213640\n",
      "2025-04-05 18:57:51,202 INFO: Feature view already existed. Skipping creation.\n",
      "Finished: Reading data from Hopsworks, using Hopsworks Feature Query Service (1.65s) \n",
      "Finished: Reading data from Hopsworks, using Hopsworks Feature Query Service (1.43s) \n",
      "Latest data in Feature View: 2025-04-05 13:00:00+00:00\n"
     ]
    }
   ],
   "source": [
    "monitoring_df = load_predictions_and_actual_values_from_store(\n",
    "        from_date=current_date - timedelta(days=14),\n",
    "        to_date=current_date\n",
    "    )"
   ]
  },
  {
   "cell_type": "code",
   "execution_count": 4,
   "metadata": {},
   "outputs": [
    {
     "data": {
      "text/html": [
       "<div>\n",
       "<style scoped>\n",
       "    .dataframe tbody tr th:only-of-type {\n",
       "        vertical-align: middle;\n",
       "    }\n",
       "\n",
       "    .dataframe tbody tr th {\n",
       "        vertical-align: top;\n",
       "    }\n",
       "\n",
       "    .dataframe thead th {\n",
       "        text-align: right;\n",
       "    }\n",
       "</style>\n",
       "<table border=\"1\" class=\"dataframe\">\n",
       "  <thead>\n",
       "    <tr style=\"text-align: right;\">\n",
       "      <th></th>\n",
       "      <th>sub_region_code</th>\n",
       "      <th>predicted_demand</th>\n",
       "      <th>date</th>\n",
       "      <th>actuals_sub_region_code</th>\n",
       "      <th>actuals_date</th>\n",
       "      <th>actuals_demand</th>\n",
       "    </tr>\n",
       "  </thead>\n",
       "  <tbody>\n",
       "    <tr>\n",
       "      <th>0</th>\n",
       "      <td>6</td>\n",
       "      <td>979.0</td>\n",
       "      <td>2025-04-05 13:00:00+00:00</td>\n",
       "      <td>NaN</td>\n",
       "      <td>NaT</td>\n",
       "      <td>None</td>\n",
       "    </tr>\n",
       "    <tr>\n",
       "      <th>1</th>\n",
       "      <td>0</td>\n",
       "      <td>1600.0</td>\n",
       "      <td>2025-04-05 13:00:00+00:00</td>\n",
       "      <td>NaN</td>\n",
       "      <td>NaT</td>\n",
       "      <td>None</td>\n",
       "    </tr>\n",
       "    <tr>\n",
       "      <th>2</th>\n",
       "      <td>9</td>\n",
       "      <td>4576.0</td>\n",
       "      <td>2025-04-05 13:00:00+00:00</td>\n",
       "      <td>NaN</td>\n",
       "      <td>NaT</td>\n",
       "      <td>None</td>\n",
       "    </tr>\n",
       "    <tr>\n",
       "      <th>3</th>\n",
       "      <td>3</td>\n",
       "      <td>670.0</td>\n",
       "      <td>2025-04-05 13:00:00+00:00</td>\n",
       "      <td>NaN</td>\n",
       "      <td>NaT</td>\n",
       "      <td>None</td>\n",
       "    </tr>\n",
       "    <tr>\n",
       "      <th>4</th>\n",
       "      <td>8</td>\n",
       "      <td>533.0</td>\n",
       "      <td>2025-04-05 13:00:00+00:00</td>\n",
       "      <td>NaN</td>\n",
       "      <td>NaT</td>\n",
       "      <td>None</td>\n",
       "    </tr>\n",
       "    <tr>\n",
       "      <th>5</th>\n",
       "      <td>10</td>\n",
       "      <td>1870.0</td>\n",
       "      <td>2025-04-05 13:00:00+00:00</td>\n",
       "      <td>NaN</td>\n",
       "      <td>NaT</td>\n",
       "      <td>None</td>\n",
       "    </tr>\n",
       "    <tr>\n",
       "      <th>6</th>\n",
       "      <td>2</td>\n",
       "      <td>1637.0</td>\n",
       "      <td>2025-04-05 13:00:00+00:00</td>\n",
       "      <td>NaN</td>\n",
       "      <td>NaT</td>\n",
       "      <td>None</td>\n",
       "    </tr>\n",
       "    <tr>\n",
       "      <th>7</th>\n",
       "      <td>5</td>\n",
       "      <td>1198.0</td>\n",
       "      <td>2025-04-05 13:00:00+00:00</td>\n",
       "      <td>NaN</td>\n",
       "      <td>NaT</td>\n",
       "      <td>None</td>\n",
       "    </tr>\n",
       "    <tr>\n",
       "      <th>8</th>\n",
       "      <td>4</td>\n",
       "      <td>777.0</td>\n",
       "      <td>2025-04-05 13:00:00+00:00</td>\n",
       "      <td>NaN</td>\n",
       "      <td>NaT</td>\n",
       "      <td>None</td>\n",
       "    </tr>\n",
       "    <tr>\n",
       "      <th>9</th>\n",
       "      <td>7</td>\n",
       "      <td>307.0</td>\n",
       "      <td>2025-04-05 13:00:00+00:00</td>\n",
       "      <td>NaN</td>\n",
       "      <td>NaT</td>\n",
       "      <td>None</td>\n",
       "    </tr>\n",
       "    <tr>\n",
       "      <th>10</th>\n",
       "      <td>1</td>\n",
       "      <td>963.0</td>\n",
       "      <td>2025-04-05 13:00:00+00:00</td>\n",
       "      <td>NaN</td>\n",
       "      <td>NaT</td>\n",
       "      <td>None</td>\n",
       "    </tr>\n",
       "  </tbody>\n",
       "</table>\n",
       "</div>"
      ],
      "text/plain": [
       "    sub_region_code  predicted_demand                      date  \\\n",
       "0                 6             979.0 2025-04-05 13:00:00+00:00   \n",
       "1                 0            1600.0 2025-04-05 13:00:00+00:00   \n",
       "2                 9            4576.0 2025-04-05 13:00:00+00:00   \n",
       "3                 3             670.0 2025-04-05 13:00:00+00:00   \n",
       "4                 8             533.0 2025-04-05 13:00:00+00:00   \n",
       "5                10            1870.0 2025-04-05 13:00:00+00:00   \n",
       "6                 2            1637.0 2025-04-05 13:00:00+00:00   \n",
       "7                 5            1198.0 2025-04-05 13:00:00+00:00   \n",
       "8                 4             777.0 2025-04-05 13:00:00+00:00   \n",
       "9                 7             307.0 2025-04-05 13:00:00+00:00   \n",
       "10                1             963.0 2025-04-05 13:00:00+00:00   \n",
       "\n",
       "    actuals_sub_region_code actuals_date actuals_demand  \n",
       "0                       NaN          NaT           None  \n",
       "1                       NaN          NaT           None  \n",
       "2                       NaN          NaT           None  \n",
       "3                       NaN          NaT           None  \n",
       "4                       NaN          NaT           None  \n",
       "5                       NaN          NaT           None  \n",
       "6                       NaN          NaT           None  \n",
       "7                       NaN          NaT           None  \n",
       "8                       NaN          NaT           None  \n",
       "9                       NaN          NaT           None  \n",
       "10                      NaN          NaT           None  "
      ]
     },
     "execution_count": 4,
     "metadata": {},
     "output_type": "execute_result"
    }
   ],
   "source": [
    "monitoring_df"
   ]
  },
  {
   "cell_type": "code",
   "execution_count": null,
   "metadata": {},
   "outputs": [],
   "source": []
  },
  {
   "cell_type": "code",
   "execution_count": null,
   "metadata": {},
   "outputs": [],
   "source": []
  }
 ],
 "metadata": {
  "kernelspec": {
   "display_name": "credit_card_approval",
   "language": "python",
   "name": "python3"
  },
  "language_info": {
   "codemirror_mode": {
    "name": "ipython",
    "version": 3
   },
   "file_extension": ".py",
   "mimetype": "text/x-python",
   "name": "python",
   "nbconvert_exporter": "python",
   "pygments_lexer": "ipython3",
   "version": "3.11.4"
  }
 },
 "nbformat": 4,
 "nbformat_minor": 2
}
