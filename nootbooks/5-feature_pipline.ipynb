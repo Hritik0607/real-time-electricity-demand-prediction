{
 "cells": [
  {
   "cell_type": "code",
   "execution_count": 1,
   "metadata": {},
   "outputs": [],
   "source": [
    "import sys\n",
    "import os\n",
    "\n",
    "sys.path.append(os.path.abspath(os.path.join(os.getcwd(), \"..\")))\n",
    "\n",
    "from src.component.data_info import *\n",
    "from datetime import datetime, timedelta"
   ]
  },
  {
   "cell_type": "code",
   "execution_count": 2,
   "metadata": {},
   "outputs": [
    {
     "name": "stdout",
     "output_type": "stream",
     "text": [
      "current_date=Timestamp('2025-04-05 12:00:00+0000', tz='UTC')\n",
      "2025-04-05 12:00:00+00:00 2025-01-01 00:00:00+00:00\n"
     ]
    }
   ],
   "source": [
    "# specify the date we want to fetch our data\n",
    "from datetime import datetime, timedelta\n",
    "\n",
    "import pandas as pd\n",
    "#specify the current time\n",
    "current_date = pd.to_datetime(datetime.utcnow(),utc=True).floor('h')\n",
    "print(f'{current_date=}')\n",
    "\n",
    "# we fetch raw data for the last 28 days, to add redundancy to our data pipeline\n",
    "fetch_data_to = current_date\n",
    "fetch_data_from = current_date - timedelta(days=90)#it should only fetch for the last hour but because we dont want the pipline to break in case this data or the provois our was not availble so thats why we added for the entier month\n",
    "fetch_data_from = pd.Timestamp(year=fetch_data_from.year, month=fetch_data_from.month, day=1,tz='UTC')\n",
    "print(fetch_data_to, fetch_data_from )"
   ]
  },
  {
   "cell_type": "code",
   "execution_count": 3,
   "metadata": {},
   "outputs": [],
   "source": [
    "#fetch batch of data from the wherehous\n",
    "\n",
    "def fetch_batch_raw_data(from_date: datetime, to_date: datetime) -> pd.DataFrame:\n",
    "    \"\"\"\n",
    "    Simulate production data by sampling historical data from 52 weeks ago (i.e. 1 year)\n",
    "    \"\"\"\n",
    "    from_date_ = from_date - timedelta(days=7*52)\n",
    "    to_date_ = to_date - timedelta(days=7*52)\n",
    "    print(f'{from_date_=}, {to_date_=}')\n",
    "\n",
    "    # download 2 files from website\n",
    "    demand_values = load_full_data(from_date_,to_date_)\n",
    "    demand_values = demand_values[(demand_values.date >= from_date_) & (demand_values.date <= to_date_)]\n",
    "\n",
    "\n",
    "    # shift the data to pretend this is recent data\n",
    "    demand_values['date'] += timedelta(days=7*52)\n",
    "\n",
    "    demand_values.sort_values(by=['sub_region_code', 'date'], inplace=True)\n",
    "\n",
    "    return demand_values"
   ]
  },
  {
   "cell_type": "code",
   "execution_count": 4,
   "metadata": {},
   "outputs": [
    {
     "name": "stdout",
     "output_type": "stream",
     "text": [
      "from_date_=Timestamp('2024-01-03 00:00:00+0000', tz='UTC'), to_date_=Timestamp('2024-04-06 12:00:00+0000', tz='UTC')\n",
      "Loading file D:\\projects\\electricity_demand_predictor-main\\data\\raw\\electricity_raw_data\\hourly_demand_2024-01-03.json\n",
      "Loading file D:\\projects\\electricity_demand_predictor-main\\data\\raw\\electricity_raw_data\\hourly_demand_2024-01-04.json\n",
      "Loading file D:\\projects\\electricity_demand_predictor-main\\data\\raw\\electricity_raw_data\\hourly_demand_2024-01-05.json\n",
      "Loading file D:\\projects\\electricity_demand_predictor-main\\data\\raw\\electricity_raw_data\\hourly_demand_2024-01-06.json\n",
      "Loading file D:\\projects\\electricity_demand_predictor-main\\data\\raw\\electricity_raw_data\\hourly_demand_2024-01-07.json\n",
      "Loading file D:\\projects\\electricity_demand_predictor-main\\data\\raw\\electricity_raw_data\\hourly_demand_2024-01-08.json\n",
      "Loading file D:\\projects\\electricity_demand_predictor-main\\data\\raw\\electricity_raw_data\\hourly_demand_2024-01-09.json\n",
      "Loading file D:\\projects\\electricity_demand_predictor-main\\data\\raw\\electricity_raw_data\\hourly_demand_2024-01-10.json\n",
      "Loading file D:\\projects\\electricity_demand_predictor-main\\data\\raw\\electricity_raw_data\\hourly_demand_2024-01-11.json\n",
      "Loading file D:\\projects\\electricity_demand_predictor-main\\data\\raw\\electricity_raw_data\\hourly_demand_2024-01-12.json\n",
      "Loading file D:\\projects\\electricity_demand_predictor-main\\data\\raw\\electricity_raw_data\\hourly_demand_2024-01-13.json\n",
      "Loading file D:\\projects\\electricity_demand_predictor-main\\data\\raw\\electricity_raw_data\\hourly_demand_2024-01-14.json\n",
      "Loading file D:\\projects\\electricity_demand_predictor-main\\data\\raw\\electricity_raw_data\\hourly_demand_2024-01-15.json\n",
      "Loading file D:\\projects\\electricity_demand_predictor-main\\data\\raw\\electricity_raw_data\\hourly_demand_2024-01-16.json\n",
      "Loading file D:\\projects\\electricity_demand_predictor-main\\data\\raw\\electricity_raw_data\\hourly_demand_2024-01-17.json\n",
      "Loading file D:\\projects\\electricity_demand_predictor-main\\data\\raw\\electricity_raw_data\\hourly_demand_2024-01-18.json\n",
      "Loading file D:\\projects\\electricity_demand_predictor-main\\data\\raw\\electricity_raw_data\\hourly_demand_2024-01-19.json\n",
      "Loading file D:\\projects\\electricity_demand_predictor-main\\data\\raw\\electricity_raw_data\\hourly_demand_2024-01-20.json\n",
      "Loading file D:\\projects\\electricity_demand_predictor-main\\data\\raw\\electricity_raw_data\\hourly_demand_2024-01-21.json\n",
      "Loading file D:\\projects\\electricity_demand_predictor-main\\data\\raw\\electricity_raw_data\\hourly_demand_2024-01-22.json\n",
      "Loading file D:\\projects\\electricity_demand_predictor-main\\data\\raw\\electricity_raw_data\\hourly_demand_2024-01-23.json\n",
      "Loading file D:\\projects\\electricity_demand_predictor-main\\data\\raw\\electricity_raw_data\\hourly_demand_2024-01-24.json\n",
      "Loading file D:\\projects\\electricity_demand_predictor-main\\data\\raw\\electricity_raw_data\\hourly_demand_2024-01-25.json\n",
      "Loading file D:\\projects\\electricity_demand_predictor-main\\data\\raw\\electricity_raw_data\\hourly_demand_2024-01-26.json\n",
      "Loading file D:\\projects\\electricity_demand_predictor-main\\data\\raw\\electricity_raw_data\\hourly_demand_2024-01-27.json\n",
      "Loading file D:\\projects\\electricity_demand_predictor-main\\data\\raw\\electricity_raw_data\\hourly_demand_2024-01-28.json\n",
      "Loading file D:\\projects\\electricity_demand_predictor-main\\data\\raw\\electricity_raw_data\\hourly_demand_2024-01-29.json\n",
      "Loading file D:\\projects\\electricity_demand_predictor-main\\data\\raw\\electricity_raw_data\\hourly_demand_2024-01-30.json\n",
      "Loading file D:\\projects\\electricity_demand_predictor-main\\data\\raw\\electricity_raw_data\\hourly_demand_2024-01-31.json\n",
      "Loading file D:\\projects\\electricity_demand_predictor-main\\data\\raw\\electricity_raw_data\\hourly_demand_2024-02-01.json\n",
      "Loading file D:\\projects\\electricity_demand_predictor-main\\data\\raw\\electricity_raw_data\\hourly_demand_2024-02-02.json\n",
      "Loading file D:\\projects\\electricity_demand_predictor-main\\data\\raw\\electricity_raw_data\\hourly_demand_2024-02-03.json\n",
      "Loading file D:\\projects\\electricity_demand_predictor-main\\data\\raw\\electricity_raw_data\\hourly_demand_2024-02-04.json\n",
      "Loading file D:\\projects\\electricity_demand_predictor-main\\data\\raw\\electricity_raw_data\\hourly_demand_2024-02-05.json\n",
      "Loading file D:\\projects\\electricity_demand_predictor-main\\data\\raw\\electricity_raw_data\\hourly_demand_2024-02-06.json\n",
      "Loading file D:\\projects\\electricity_demand_predictor-main\\data\\raw\\electricity_raw_data\\hourly_demand_2024-02-07.json\n",
      "Loading file D:\\projects\\electricity_demand_predictor-main\\data\\raw\\electricity_raw_data\\hourly_demand_2024-02-08.json\n",
      "Loading file D:\\projects\\electricity_demand_predictor-main\\data\\raw\\electricity_raw_data\\hourly_demand_2024-02-09.json\n",
      "Loading file D:\\projects\\electricity_demand_predictor-main\\data\\raw\\electricity_raw_data\\hourly_demand_2024-02-10.json\n",
      "Loading file D:\\projects\\electricity_demand_predictor-main\\data\\raw\\electricity_raw_data\\hourly_demand_2024-02-11.json\n",
      "Loading file D:\\projects\\electricity_demand_predictor-main\\data\\raw\\electricity_raw_data\\hourly_demand_2024-02-12.json\n",
      "Loading file D:\\projects\\electricity_demand_predictor-main\\data\\raw\\electricity_raw_data\\hourly_demand_2024-02-13.json\n",
      "Loading file D:\\projects\\electricity_demand_predictor-main\\data\\raw\\electricity_raw_data\\hourly_demand_2024-02-14.json\n",
      "Loading file D:\\projects\\electricity_demand_predictor-main\\data\\raw\\electricity_raw_data\\hourly_demand_2024-02-15.json\n",
      "Loading file D:\\projects\\electricity_demand_predictor-main\\data\\raw\\electricity_raw_data\\hourly_demand_2024-02-16.json\n",
      "Loading file D:\\projects\\electricity_demand_predictor-main\\data\\raw\\electricity_raw_data\\hourly_demand_2024-02-17.json\n",
      "Loading file D:\\projects\\electricity_demand_predictor-main\\data\\raw\\electricity_raw_data\\hourly_demand_2024-02-18.json\n",
      "Loading file D:\\projects\\electricity_demand_predictor-main\\data\\raw\\electricity_raw_data\\hourly_demand_2024-02-19.json\n",
      "Loading file D:\\projects\\electricity_demand_predictor-main\\data\\raw\\electricity_raw_data\\hourly_demand_2024-02-20.json\n",
      "Loading file D:\\projects\\electricity_demand_predictor-main\\data\\raw\\electricity_raw_data\\hourly_demand_2024-02-21.json\n",
      "Loading file D:\\projects\\electricity_demand_predictor-main\\data\\raw\\electricity_raw_data\\hourly_demand_2024-02-22.json\n",
      "Loading file D:\\projects\\electricity_demand_predictor-main\\data\\raw\\electricity_raw_data\\hourly_demand_2024-02-23.json\n",
      "Loading file D:\\projects\\electricity_demand_predictor-main\\data\\raw\\electricity_raw_data\\hourly_demand_2024-02-24.json\n",
      "Loading file D:\\projects\\electricity_demand_predictor-main\\data\\raw\\electricity_raw_data\\hourly_demand_2024-02-25.json\n",
      "Loading file D:\\projects\\electricity_demand_predictor-main\\data\\raw\\electricity_raw_data\\hourly_demand_2024-02-26.json\n",
      "Loading file D:\\projects\\electricity_demand_predictor-main\\data\\raw\\electricity_raw_data\\hourly_demand_2024-02-27.json\n",
      "Loading file D:\\projects\\electricity_demand_predictor-main\\data\\raw\\electricity_raw_data\\hourly_demand_2024-02-28.json\n",
      "Loading file D:\\projects\\electricity_demand_predictor-main\\data\\raw\\electricity_raw_data\\hourly_demand_2024-02-29.json\n",
      "Loading file D:\\projects\\electricity_demand_predictor-main\\data\\raw\\electricity_raw_data\\hourly_demand_2024-03-01.json\n",
      "Loading file D:\\projects\\electricity_demand_predictor-main\\data\\raw\\electricity_raw_data\\hourly_demand_2024-03-02.json\n",
      "Loading file D:\\projects\\electricity_demand_predictor-main\\data\\raw\\electricity_raw_data\\hourly_demand_2024-03-03.json\n",
      "Loading file D:\\projects\\electricity_demand_predictor-main\\data\\raw\\electricity_raw_data\\hourly_demand_2024-03-04.json\n",
      "Loading file D:\\projects\\electricity_demand_predictor-main\\data\\raw\\electricity_raw_data\\hourly_demand_2024-03-05.json\n",
      "Loading file D:\\projects\\electricity_demand_predictor-main\\data\\raw\\electricity_raw_data\\hourly_demand_2024-03-06.json\n",
      "Loading file D:\\projects\\electricity_demand_predictor-main\\data\\raw\\electricity_raw_data\\hourly_demand_2024-03-07.json\n",
      "Loading file D:\\projects\\electricity_demand_predictor-main\\data\\raw\\electricity_raw_data\\hourly_demand_2024-03-08.json\n",
      "Loading file D:\\projects\\electricity_demand_predictor-main\\data\\raw\\electricity_raw_data\\hourly_demand_2024-03-09.json\n",
      "Loading file D:\\projects\\electricity_demand_predictor-main\\data\\raw\\electricity_raw_data\\hourly_demand_2024-03-10.json\n",
      "Loading file D:\\projects\\electricity_demand_predictor-main\\data\\raw\\electricity_raw_data\\hourly_demand_2024-03-11.json\n",
      "Loading file D:\\projects\\electricity_demand_predictor-main\\data\\raw\\electricity_raw_data\\hourly_demand_2024-03-12.json\n",
      "Loading file D:\\projects\\electricity_demand_predictor-main\\data\\raw\\electricity_raw_data\\hourly_demand_2024-03-13.json\n",
      "Loading file D:\\projects\\electricity_demand_predictor-main\\data\\raw\\electricity_raw_data\\hourly_demand_2024-03-14.json\n",
      "Loading file D:\\projects\\electricity_demand_predictor-main\\data\\raw\\electricity_raw_data\\hourly_demand_2024-03-15.json\n",
      "Loading file D:\\projects\\electricity_demand_predictor-main\\data\\raw\\electricity_raw_data\\hourly_demand_2024-03-16.json\n",
      "Loading file D:\\projects\\electricity_demand_predictor-main\\data\\raw\\electricity_raw_data\\hourly_demand_2024-03-17.json\n",
      "Loading file D:\\projects\\electricity_demand_predictor-main\\data\\raw\\electricity_raw_data\\hourly_demand_2024-03-18.json\n",
      "Loading file D:\\projects\\electricity_demand_predictor-main\\data\\raw\\electricity_raw_data\\hourly_demand_2024-03-19.json\n",
      "Loading file D:\\projects\\electricity_demand_predictor-main\\data\\raw\\electricity_raw_data\\hourly_demand_2024-03-20.json\n",
      "Loading file D:\\projects\\electricity_demand_predictor-main\\data\\raw\\electricity_raw_data\\hourly_demand_2024-03-21.json\n",
      "Loading file D:\\projects\\electricity_demand_predictor-main\\data\\raw\\electricity_raw_data\\hourly_demand_2024-03-22.json\n",
      "Loading file D:\\projects\\electricity_demand_predictor-main\\data\\raw\\electricity_raw_data\\hourly_demand_2024-03-23.json\n",
      "Loading file D:\\projects\\electricity_demand_predictor-main\\data\\raw\\electricity_raw_data\\hourly_demand_2024-03-24.json\n",
      "Loading file D:\\projects\\electricity_demand_predictor-main\\data\\raw\\electricity_raw_data\\hourly_demand_2024-03-25.json\n",
      "Loading file D:\\projects\\electricity_demand_predictor-main\\data\\raw\\electricity_raw_data\\hourly_demand_2024-03-26.json\n",
      "Loading file D:\\projects\\electricity_demand_predictor-main\\data\\raw\\electricity_raw_data\\hourly_demand_2024-03-27.json\n",
      "Loading file D:\\projects\\electricity_demand_predictor-main\\data\\raw\\electricity_raw_data\\hourly_demand_2024-03-28.json\n",
      "Loading file D:\\projects\\electricity_demand_predictor-main\\data\\raw\\electricity_raw_data\\hourly_demand_2024-03-29.json\n",
      "Loading file D:\\projects\\electricity_demand_predictor-main\\data\\raw\\electricity_raw_data\\hourly_demand_2024-03-30.json\n",
      "Loading file D:\\projects\\electricity_demand_predictor-main\\data\\raw\\electricity_raw_data\\hourly_demand_2024-03-31.json\n",
      "Loading file D:\\projects\\electricity_demand_predictor-main\\data\\raw\\electricity_raw_data\\hourly_demand_2024-04-01.json\n",
      "Loading file D:\\projects\\electricity_demand_predictor-main\\data\\raw\\electricity_raw_data\\hourly_demand_2024-04-02.json\n",
      "Loading file D:\\projects\\electricity_demand_predictor-main\\data\\raw\\electricity_raw_data\\hourly_demand_2024-04-03.json\n",
      "Loading file D:\\projects\\electricity_demand_predictor-main\\data\\raw\\electricity_raw_data\\hourly_demand_2024-04-04.json\n",
      "Loading file D:\\projects\\electricity_demand_predictor-main\\data\\raw\\electricity_raw_data\\hourly_demand_2024-04-05.json\n",
      "Loading file D:\\projects\\electricity_demand_predictor-main\\data\\raw\\electricity_raw_data\\hourly_demand_2024-04-06.json\n",
      "Successfully loaded and processed data for 2024-01-03 00:00:00+00:00 to 2024-04-06 12:00:00+00:00\n",
      "Weather data saved to D:\\projects\\electricity_demand_predictor-main\\data\\raw\\weather_raw_data\\weather_data_2024-01-03_to_2024-04-06.csv\n"
     ]
    }
   ],
   "source": [
    "data=fetch_batch_raw_data(fetch_data_from,fetch_data_to)"
   ]
  },
  {
   "cell_type": "code",
   "execution_count": 5,
   "metadata": {},
   "outputs": [],
   "source": [
    "# string to datetime\n",
    "data['date'] = pd.to_datetime(data['date'], utc=True)\n",
    "\n",
    "# add column with Unix epoch milliseconds\n",
    "data['seconds'] = data['date'].astype('int64') // 10**6"
   ]
  },
  {
   "cell_type": "code",
   "execution_count": 6,
   "metadata": {},
   "outputs": [
    {
     "data": {
      "text/plain": [
       "date               0\n",
       "sub_region_code    0\n",
       "demand             0\n",
       "temperature_2m     0\n",
       "seconds            0\n",
       "dtype: int64"
      ]
     },
     "execution_count": 6,
     "metadata": {},
     "output_type": "execute_result"
    }
   ],
   "source": [
    "data.isna().sum()"
   ]
  },
  {
   "cell_type": "code",
   "execution_count": 7,
   "metadata": {},
   "outputs": [
    {
     "data": {
      "text/html": [
       "<div>\n",
       "<style scoped>\n",
       "    .dataframe tbody tr th:only-of-type {\n",
       "        vertical-align: middle;\n",
       "    }\n",
       "\n",
       "    .dataframe tbody tr th {\n",
       "        vertical-align: top;\n",
       "    }\n",
       "\n",
       "    .dataframe thead th {\n",
       "        text-align: right;\n",
       "    }\n",
       "</style>\n",
       "<table border=\"1\" class=\"dataframe\">\n",
       "  <thead>\n",
       "    <tr style=\"text-align: right;\">\n",
       "      <th></th>\n",
       "      <th>date</th>\n",
       "      <th>sub_region_code</th>\n",
       "      <th>demand</th>\n",
       "      <th>temperature_2m</th>\n",
       "      <th>seconds</th>\n",
       "    </tr>\n",
       "  </thead>\n",
       "  <tbody>\n",
       "    <tr>\n",
       "      <th>25992</th>\n",
       "      <td>2025-04-05 08:00:00+00:00</td>\n",
       "      <td>10</td>\n",
       "      <td>1669</td>\n",
       "      <td>15.408501</td>\n",
       "      <td>1743840000000</td>\n",
       "    </tr>\n",
       "    <tr>\n",
       "      <th>25981</th>\n",
       "      <td>2025-04-05 09:00:00+00:00</td>\n",
       "      <td>10</td>\n",
       "      <td>1675</td>\n",
       "      <td>16.608500</td>\n",
       "      <td>1743843600000</td>\n",
       "    </tr>\n",
       "    <tr>\n",
       "      <th>25970</th>\n",
       "      <td>2025-04-05 10:00:00+00:00</td>\n",
       "      <td>10</td>\n",
       "      <td>1718</td>\n",
       "      <td>18.958500</td>\n",
       "      <td>1743847200000</td>\n",
       "    </tr>\n",
       "    <tr>\n",
       "      <th>25959</th>\n",
       "      <td>2025-04-05 11:00:00+00:00</td>\n",
       "      <td>10</td>\n",
       "      <td>1789</td>\n",
       "      <td>20.008501</td>\n",
       "      <td>1743850800000</td>\n",
       "    </tr>\n",
       "    <tr>\n",
       "      <th>25948</th>\n",
       "      <td>2025-04-05 12:00:00+00:00</td>\n",
       "      <td>10</td>\n",
       "      <td>1850</td>\n",
       "      <td>20.808500</td>\n",
       "      <td>1743854400000</td>\n",
       "    </tr>\n",
       "  </tbody>\n",
       "</table>\n",
       "</div>"
      ],
      "text/plain": [
       "                           date  sub_region_code demand  temperature_2m  \\\n",
       "25992 2025-04-05 08:00:00+00:00               10   1669       15.408501   \n",
       "25981 2025-04-05 09:00:00+00:00               10   1675       16.608500   \n",
       "25970 2025-04-05 10:00:00+00:00               10   1718       18.958500   \n",
       "25959 2025-04-05 11:00:00+00:00               10   1789       20.008501   \n",
       "25948 2025-04-05 12:00:00+00:00               10   1850       20.808500   \n",
       "\n",
       "             seconds  \n",
       "25992  1743840000000  \n",
       "25981  1743843600000  \n",
       "25970  1743847200000  \n",
       "25959  1743850800000  \n",
       "25948  1743854400000  "
      ]
     },
     "execution_count": 7,
     "metadata": {},
     "output_type": "execute_result"
    }
   ],
   "source": [
    "data.tail()"
   ]
  },
  {
   "cell_type": "code",
   "execution_count": 8,
   "metadata": {},
   "outputs": [
    {
     "name": "stdout",
     "output_type": "stream",
     "text": [
      "Min date: 2025-01-01 04:00:00+00:00\n",
      "Max date: 2025-04-05 12:00:00+00:00\n"
     ]
    }
   ],
   "source": [
    "print(\"Min date:\", data[\"date\"].min())\n",
    "print(\"Max date:\", data[\"date\"].max())\n"
   ]
  },
  {
   "cell_type": "code",
   "execution_count": 9,
   "metadata": {},
   "outputs": [],
   "source": [
    "# from src.component.data_info import *\n",
    "# import tqdm\n",
    "# features, targets = transform_ts_data_into_features_and_target(\n",
    "#     data,\n",
    "#     input_seq_len=24*28*1, # one month\n",
    "#     step_size=23,\n",
    "# )"
   ]
  },
  {
   "cell_type": "code",
   "execution_count": 10,
   "metadata": {},
   "outputs": [],
   "source": [
    "# features"
   ]
  },
  {
   "cell_type": "code",
   "execution_count": 11,
   "metadata": {},
   "outputs": [],
   "source": [
    "# targets"
   ]
  },
  {
   "cell_type": "code",
   "execution_count": 12,
   "metadata": {},
   "outputs": [],
   "source": [
    "import hopsworks\n",
    "from src.component import feature_group_config"
   ]
  },
  {
   "cell_type": "code",
   "execution_count": 13,
   "metadata": {},
   "outputs": [
    {
     "data": {
      "text/plain": [
       "'4.1.8'"
      ]
     },
     "execution_count": 13,
     "metadata": {},
     "output_type": "execute_result"
    }
   ],
   "source": [
    "hopsworks.__version__"
   ]
  },
  {
   "cell_type": "code",
   "execution_count": 14,
   "metadata": {},
   "outputs": [],
   "source": [
    "# project = hopsworks.login(\n",
    "#     project=feature_group_config.HOPSWORKS_PROJECT_NAME,\n",
    "#     api_key_value=feature_group_config.HOPSWORKS_API_KEY\n",
    "# )\n",
    "# feature_store = project.get_feature_store()\n",
    "\n",
    "# FEATURE_GROUP_NAME = 'electricity_demand_feature_group2'\n",
    "# FEATURE_GROUP_VERSION = 3\n",
    "\n",
    "# feature_group = feature_store.get_or_create_feature_group(\n",
    "#     name=FEATURE_GROUP_NAME,\n",
    "#     version=FEATURE_GROUP_VERSION,\n",
    "#     description=\"Time-series data at hourly frequency\",\n",
    "#     primary_key = ['sub_region_code', 'date'],\n",
    "#     event_time='date',\n",
    "# )"
   ]
  },
  {
   "cell_type": "code",
   "execution_count": 15,
   "metadata": {},
   "outputs": [
    {
     "name": "stdout",
     "output_type": "stream",
     "text": [
      "HOPSWORKS_PROJECT_NAME:  energy_demand_prediction\n",
      "2025-04-05 18:16:45,850 INFO: Initializing external client\n",
      "2025-04-05 18:16:45,851 INFO: Base URL: https://c.app.hopsworks.ai:443\n",
      "2025-04-05 18:16:47,149 WARNING: UserWarning: The installed hopsworks client version 4.1.8 may not be compatible with the connected Hopsworks backend version 4.2.0. \n",
      "To ensure compatibility please install the latest bug fix release matching the minor version of your backend (4.2) by running 'pip install hopsworks==4.2.*'\n",
      "\n"
     ]
    },
    {
     "name": "stderr",
     "output_type": "stream",
     "text": [
      "\n",
      "\n"
     ]
    },
    {
     "name": "stdout",
     "output_type": "stream",
     "text": [
      "2025-04-05 18:16:48,261 INFO: Python Engine initialized.\n",
      "\n",
      "Logged in to project, explore it here https://c.app.hopsworks.ai:443/p/1213640\n"
     ]
    }
   ],
   "source": [
    "#save predictions to the feature store\n",
    "from src.component.feature_store_api import get_feature_store\n",
    "import src.component.feature_group_config as config\n",
    "\n",
    "# connect to the feature group\n",
    "feature_group = get_feature_store().get_or_create_feature_group(\n",
    "    name=config.FEATURE_GROUP_NAME,\n",
    "    version=1,\n",
    "    description=\"Time-series data at hourly frequency\",\n",
    "    primary_key = ['sub_region_code', 'date'],\n",
    "    event_time='date',\n",
    ")\n",
    "\n"
   ]
  },
  {
   "cell_type": "code",
   "execution_count": 16,
   "metadata": {},
   "outputs": [
    {
     "name": "stderr",
     "output_type": "stream",
     "text": [
      "Uploading Dataframe: 100.00% |██████████| Rows 25938/25938 | Elapsed Time: 00:13 | Remaining Time: 00:00\n"
     ]
    },
    {
     "name": "stdout",
     "output_type": "stream",
     "text": [
      "Launching job: electricity_demand_feature_group_1_offline_fg_materialization\n",
      "Job started successfully, you can follow the progress at \n",
      "https://c.app.hopsworks.ai:443/p/1213640/jobs/named/electricity_demand_feature_group_1_offline_fg_materialization/executions\n"
     ]
    },
    {
     "data": {
      "text/plain": [
       "(Job('electricity_demand_feature_group_1_offline_fg_materialization', 'SPARK'),\n",
       " None)"
      ]
     },
     "execution_count": 16,
     "metadata": {},
     "output_type": "execute_result"
    }
   ],
   "source": [
    "feature_group.insert(data, write_options={\"wait_for_job\": False})"
   ]
  },
  {
   "cell_type": "code",
   "execution_count": null,
   "metadata": {},
   "outputs": [],
   "source": []
  }
 ],
 "metadata": {
  "kernelspec": {
   "display_name": "src-o1faXYQI-py3.12",
   "language": "python",
   "name": "python3"
  },
  "language_info": {
   "codemirror_mode": {
    "name": "ipython",
    "version": 3
   },
   "file_extension": ".py",
   "mimetype": "text/x-python",
   "name": "python",
   "nbconvert_exporter": "python",
   "pygments_lexer": "ipython3",
   "version": "3.11.4"
  }
 },
 "nbformat": 4,
 "nbformat_minor": 2
}
