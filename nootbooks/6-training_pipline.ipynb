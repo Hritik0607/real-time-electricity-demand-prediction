{
 "cells": [
  {
   "cell_type": "code",
   "execution_count": 1,
   "metadata": {},
   "outputs": [],
   "source": [
    "%load_ext autoreload\n",
    "%autoreload 2"
   ]
  },
  {
   "cell_type": "code",
   "execution_count": 2,
   "metadata": {},
   "outputs": [
    {
     "name": "stdout",
     "output_type": "stream",
     "text": [
      "2025-04-05 18:51:17,671 WARNING: SentryHubDeprecationWarning: `sentry_sdk.Hub` is deprecated and will be removed in a future major release. Please consult our 1.x to 2.x migration guide for details on how to migrate `Hub` usage to the new API: https://docs.sentry.io/platforms/python/migration/1.x-to-2.x\n",
      "\n"
     ]
    }
   ],
   "source": [
    "import sys\n",
    "import os\n",
    "\n",
    "sys.path.append(os.path.abspath(os.path.join(os.getcwd(), \"..\")))\n",
    "\n",
    "import src.component.feature_group_config as config\n",
    "from comet_ml import Experiment"
   ]
  },
  {
   "cell_type": "code",
   "execution_count": 3,
   "metadata": {},
   "outputs": [
    {
     "name": "stdout",
     "output_type": "stream",
     "text": [
      "2025-04-05 18:51:18,179 INFO: Initializing external client\n",
      "2025-04-05 18:51:18,180 INFO: Base URL: https://c.app.hopsworks.ai:443\n",
      "2025-04-05 18:51:19,766 WARNING: UserWarning: The installed hopsworks client version 4.1.8 may not be compatible with the connected Hopsworks backend version 4.2.0. \n",
      "To ensure compatibility please install the latest bug fix release matching the minor version of your backend (4.2) by running 'pip install hopsworks==4.2.*'\n",
      "\n"
     ]
    },
    {
     "name": "stderr",
     "output_type": "stream",
     "text": [
      "\n",
      "\n"
     ]
    },
    {
     "name": "stdout",
     "output_type": "stream",
     "text": [
      "2025-04-05 18:51:23,575 INFO: Python Engine initialized.\n",
      "\n",
      "Logged in to project, explore it here https://c.app.hopsworks.ai:443/p/1213640\n"
     ]
    }
   ],
   "source": [
    "import hopsworks\n",
    "\n",
    "# connect to the project\n",
    "project = hopsworks.login(\n",
    "    project=config.HOPSWORKS_PROJECT_NAME,\n",
    "    api_key_value=config.HOPSWORKS_API_KEY\n",
    ")\n",
    "\n",
    "# connect to the feature store\n",
    "feature_store = project.get_feature_store()\n",
    "\n",
    "# connect to the feature group\n",
    "feature_group = feature_store.get_feature_group(\n",
    "    name=config.FEATURE_GROUP_NAME,\n",
    "    version=config.FEATURE_GROUP_VERSION,\n",
    ")"
   ]
  },
  {
   "cell_type": "code",
   "execution_count": 4,
   "metadata": {},
   "outputs": [
    {
     "name": "stdout",
     "output_type": "stream",
     "text": [
      "Feature view already existed. Skip creation.\n"
     ]
    }
   ],
   "source": [
    "# create feature view (if it doesn't exist yet)\n",
    "# This feature view only uses on feature group, so the query is trivial\n",
    "try:\n",
    "    # create feature view if it doesn't exist yet\n",
    "    feature_store.create_feature_view(\n",
    "        name=config.FEATURE_VIEW_NAME,\n",
    "        version=config.FEATURE_VIEW_VERSION,\n",
    "        query=feature_group.select_all()\n",
    "    )\n",
    "except:\n",
    "    print('Feature view already existed. Skip creation.')\n",
    "\n",
    "\n",
    "# get feature view\n",
    "feature_view = feature_store.get_feature_view(\n",
    "    name=config.FEATURE_VIEW_NAME,\n",
    "    version=config.FEATURE_VIEW_VERSION\n",
    ")"
   ]
  },
  {
   "cell_type": "code",
   "execution_count": 5,
   "metadata": {},
   "outputs": [
    {
     "data": {
      "text/plain": [
       "'electricity_demand_feature_view'"
      ]
     },
     "execution_count": 5,
     "metadata": {},
     "output_type": "execute_result"
    }
   ],
   "source": [
    "config.FEATURE_VIEW_NAME"
   ]
  },
  {
   "cell_type": "code",
   "execution_count": 6,
   "metadata": {},
   "outputs": [
    {
     "name": "stdout",
     "output_type": "stream",
     "text": [
      "Finished: Reading data from Hopsworks, using Hopsworks Feature Query Service (65.49s) \n",
      "2025-04-05 18:52:49,808 WARNING: VersionWarning: Incremented version to `2`.\n",
      "\n"
     ]
    }
   ],
   "source": [
    "data, _ = feature_view.training_data(\n",
    "    description='Time-series hourly electricity demand values',\n",
    ")"
   ]
  },
  {
   "cell_type": "code",
   "execution_count": 7,
   "metadata": {},
   "outputs": [
    {
     "name": "stdout",
     "output_type": "stream",
     "text": [
      "Index(['date', 'sub_region_code', 'demand', 'temperature_2m', 'seconds'], dtype='object')\n"
     ]
    }
   ],
   "source": [
    "print(data.columns)\n"
   ]
  },
  {
   "cell_type": "code",
   "execution_count": 8,
   "metadata": {},
   "outputs": [
    {
     "data": {
      "text/html": [
       "<div>\n",
       "<style scoped>\n",
       "    .dataframe tbody tr th:only-of-type {\n",
       "        vertical-align: middle;\n",
       "    }\n",
       "\n",
       "    .dataframe tbody tr th {\n",
       "        vertical-align: top;\n",
       "    }\n",
       "\n",
       "    .dataframe thead th {\n",
       "        text-align: right;\n",
       "    }\n",
       "</style>\n",
       "<table border=\"1\" class=\"dataframe\">\n",
       "  <thead>\n",
       "    <tr style=\"text-align: right;\">\n",
       "      <th></th>\n",
       "      <th>date</th>\n",
       "      <th>sub_region_code</th>\n",
       "      <th>demand</th>\n",
       "      <th>temperature_2m</th>\n",
       "    </tr>\n",
       "  </thead>\n",
       "  <tbody>\n",
       "    <tr>\n",
       "      <th>134351</th>\n",
       "      <td>2023-01-01 04:00:00+00:00</td>\n",
       "      <td>0</td>\n",
       "      <td>1537</td>\n",
       "      <td>15.808500</td>\n",
       "    </tr>\n",
       "    <tr>\n",
       "      <th>53740</th>\n",
       "      <td>2023-01-01 05:00:00+00:00</td>\n",
       "      <td>0</td>\n",
       "      <td>1477</td>\n",
       "      <td>14.608500</td>\n",
       "    </tr>\n",
       "    <tr>\n",
       "      <th>183640</th>\n",
       "      <td>2023-01-01 06:00:00+00:00</td>\n",
       "      <td>0</td>\n",
       "      <td>1428</td>\n",
       "      <td>14.458500</td>\n",
       "    </tr>\n",
       "    <tr>\n",
       "      <th>12337</th>\n",
       "      <td>2023-01-01 07:00:00+00:00</td>\n",
       "      <td>0</td>\n",
       "      <td>1392</td>\n",
       "      <td>14.458500</td>\n",
       "    </tr>\n",
       "    <tr>\n",
       "      <th>136041</th>\n",
       "      <td>2023-01-01 08:00:00+00:00</td>\n",
       "      <td>0</td>\n",
       "      <td>1366</td>\n",
       "      <td>14.608500</td>\n",
       "    </tr>\n",
       "    <tr>\n",
       "      <th>...</th>\n",
       "      <td>...</td>\n",
       "      <td>...</td>\n",
       "      <td>...</td>\n",
       "      <td>...</td>\n",
       "    </tr>\n",
       "    <tr>\n",
       "      <th>123264</th>\n",
       "      <td>2025-04-05 08:00:00+00:00</td>\n",
       "      <td>10</td>\n",
       "      <td>1669</td>\n",
       "      <td>15.408501</td>\n",
       "    </tr>\n",
       "    <tr>\n",
       "      <th>123195</th>\n",
       "      <td>2025-04-05 09:00:00+00:00</td>\n",
       "      <td>10</td>\n",
       "      <td>1675</td>\n",
       "      <td>16.608500</td>\n",
       "    </tr>\n",
       "    <tr>\n",
       "      <th>123239</th>\n",
       "      <td>2025-04-05 10:00:00+00:00</td>\n",
       "      <td>10</td>\n",
       "      <td>1718</td>\n",
       "      <td>18.958500</td>\n",
       "    </tr>\n",
       "    <tr>\n",
       "      <th>123243</th>\n",
       "      <td>2025-04-05 11:00:00+00:00</td>\n",
       "      <td>10</td>\n",
       "      <td>1789</td>\n",
       "      <td>20.008501</td>\n",
       "    </tr>\n",
       "    <tr>\n",
       "      <th>123272</th>\n",
       "      <td>2025-04-05 12:00:00+00:00</td>\n",
       "      <td>10</td>\n",
       "      <td>1850</td>\n",
       "      <td>20.808500</td>\n",
       "    </tr>\n",
       "  </tbody>\n",
       "</table>\n",
       "<p>217855 rows × 4 columns</p>\n",
       "</div>"
      ],
      "text/plain": [
       "                             date  sub_region_code demand  temperature_2m\n",
       "134351  2023-01-01 04:00:00+00:00                0   1537       15.808500\n",
       "53740   2023-01-01 05:00:00+00:00                0   1477       14.608500\n",
       "183640  2023-01-01 06:00:00+00:00                0   1428       14.458500\n",
       "12337   2023-01-01 07:00:00+00:00                0   1392       14.458500\n",
       "136041  2023-01-01 08:00:00+00:00                0   1366       14.608500\n",
       "...                           ...              ...    ...             ...\n",
       "123264  2025-04-05 08:00:00+00:00               10   1669       15.408501\n",
       "123195  2025-04-05 09:00:00+00:00               10   1675       16.608500\n",
       "123239  2025-04-05 10:00:00+00:00               10   1718       18.958500\n",
       "123243  2025-04-05 11:00:00+00:00               10   1789       20.008501\n",
       "123272  2025-04-05 12:00:00+00:00               10   1850       20.808500\n",
       "\n",
       "[217855 rows x 4 columns]"
      ]
     },
     "execution_count": 8,
     "metadata": {},
     "output_type": "execute_result"
    }
   ],
   "source": [
    "# drop `date` column\n",
    "data.drop('seconds', axis=1, inplace=True)\n",
    "\n",
    "# sort by `pickup_location_id` and `pickup_hour`\n",
    "data.sort_values(by=['sub_region_code', 'date'], inplace=True)\n",
    "data"
   ]
  },
  {
   "cell_type": "code",
   "execution_count": 9,
   "metadata": {},
   "outputs": [
    {
     "name": "stdout",
     "output_type": "stream",
     "text": [
      "Min date: 2023-01-01 04:00:00+00:00\n",
      "Max date: 2025-04-05 12:00:00+00:00\n"
     ]
    }
   ],
   "source": [
    "print(\"Min date:\", data[\"date\"].min())\n",
    "print(\"Max date:\", data[\"date\"].max())\n"
   ]
  },
  {
   "cell_type": "code",
   "execution_count": 10,
   "metadata": {},
   "outputs": [
    {
     "name": "stderr",
     "output_type": "stream",
     "text": [
      "100%|██████████| 11/11 [00:03<00:00,  3.18it/s]"
     ]
    },
    {
     "name": "stdout",
     "output_type": "stream",
     "text": [
      "features_and_target.shape=(9152, 676)\n"
     ]
    },
    {
     "name": "stderr",
     "output_type": "stream",
     "text": [
      "\n"
     ]
    }
   ],
   "source": [
    "#transform the batch of data to features and target\n",
    "from src.component.data_info import transform_ts_data_into_features_and_target\n",
    "\n",
    "features, targets = transform_ts_data_into_features_and_target(\n",
    "    data,\n",
    "    input_seq_len=24*28*1, # one month\n",
    "    step_size=23,\n",
    ")\n",
    "\n",
    "features_and_target = features.copy()\n",
    "features_and_target['target_demand_values_next_hour'] = targets\n",
    "\n",
    "print(f'{features_and_target.shape=}')"
   ]
  },
  {
   "cell_type": "code",
   "execution_count": 11,
   "metadata": {},
   "outputs": [
    {
     "data": {
      "text/html": [
       "<div>\n",
       "<style scoped>\n",
       "    .dataframe tbody tr th:only-of-type {\n",
       "        vertical-align: middle;\n",
       "    }\n",
       "\n",
       "    .dataframe tbody tr th {\n",
       "        vertical-align: top;\n",
       "    }\n",
       "\n",
       "    .dataframe thead th {\n",
       "        text-align: right;\n",
       "    }\n",
       "</style>\n",
       "<table border=\"1\" class=\"dataframe\">\n",
       "  <thead>\n",
       "    <tr style=\"text-align: right;\">\n",
       "      <th></th>\n",
       "      <th>demand_previous_672_hour</th>\n",
       "      <th>demand_previous_671_hour</th>\n",
       "      <th>demand_previous_670_hour</th>\n",
       "      <th>demand_previous_669_hour</th>\n",
       "      <th>demand_previous_668_hour</th>\n",
       "      <th>demand_previous_667_hour</th>\n",
       "      <th>demand_previous_666_hour</th>\n",
       "      <th>demand_previous_665_hour</th>\n",
       "      <th>demand_previous_664_hour</th>\n",
       "      <th>demand_previous_663_hour</th>\n",
       "      <th>...</th>\n",
       "      <th>demand_previous_6_hour</th>\n",
       "      <th>demand_previous_5_hour</th>\n",
       "      <th>demand_previous_4_hour</th>\n",
       "      <th>demand_previous_3_hour</th>\n",
       "      <th>demand_previous_2_hour</th>\n",
       "      <th>demand_previous_1_hour</th>\n",
       "      <th>date</th>\n",
       "      <th>sub_region_code</th>\n",
       "      <th>temperature_2m</th>\n",
       "      <th>target_demand_values_next_hour</th>\n",
       "    </tr>\n",
       "  </thead>\n",
       "  <tbody>\n",
       "    <tr>\n",
       "      <th>0</th>\n",
       "      <td>1537.0</td>\n",
       "      <td>1477.0</td>\n",
       "      <td>1428.0</td>\n",
       "      <td>1392.0</td>\n",
       "      <td>1366.0</td>\n",
       "      <td>1353.0</td>\n",
       "      <td>1352.0</td>\n",
       "      <td>1361.0</td>\n",
       "      <td>1394.0</td>\n",
       "      <td>1429.0</td>\n",
       "      <td>...</td>\n",
       "      <td>1721.0</td>\n",
       "      <td>1786.0</td>\n",
       "      <td>1807.0</td>\n",
       "      <td>1776.0</td>\n",
       "      <td>1745.0</td>\n",
       "      <td>1732.0</td>\n",
       "      <td>2023-01-29 04:00:00+00:00</td>\n",
       "      <td>0</td>\n",
       "      <td>0.408500</td>\n",
       "      <td>1661.0</td>\n",
       "    </tr>\n",
       "    <tr>\n",
       "      <th>1</th>\n",
       "      <td>1572.0</td>\n",
       "      <td>1516.0</td>\n",
       "      <td>1450.0</td>\n",
       "      <td>1384.0</td>\n",
       "      <td>1351.0</td>\n",
       "      <td>1335.0</td>\n",
       "      <td>1334.0</td>\n",
       "      <td>1341.0</td>\n",
       "      <td>1375.0</td>\n",
       "      <td>1425.0</td>\n",
       "      <td>...</td>\n",
       "      <td>1716.0</td>\n",
       "      <td>1744.0</td>\n",
       "      <td>1796.0</td>\n",
       "      <td>1807.0</td>\n",
       "      <td>1789.0</td>\n",
       "      <td>1764.0</td>\n",
       "      <td>2023-01-30 03:00:00+00:00</td>\n",
       "      <td>0</td>\n",
       "      <td>2.158500</td>\n",
       "      <td>1719.0</td>\n",
       "    </tr>\n",
       "    <tr>\n",
       "      <th>2</th>\n",
       "      <td>1734.0</td>\n",
       "      <td>1664.0</td>\n",
       "      <td>1597.0</td>\n",
       "      <td>1530.0</td>\n",
       "      <td>1487.0</td>\n",
       "      <td>1455.0</td>\n",
       "      <td>1435.0</td>\n",
       "      <td>1437.0</td>\n",
       "      <td>1456.0</td>\n",
       "      <td>1510.0</td>\n",
       "      <td>...</td>\n",
       "      <td>1916.0</td>\n",
       "      <td>1910.0</td>\n",
       "      <td>1933.0</td>\n",
       "      <td>1983.0</td>\n",
       "      <td>1995.0</td>\n",
       "      <td>1968.0</td>\n",
       "      <td>2023-01-31 02:00:00+00:00</td>\n",
       "      <td>0</td>\n",
       "      <td>2.158500</td>\n",
       "      <td>1933.0</td>\n",
       "    </tr>\n",
       "    <tr>\n",
       "      <th>3</th>\n",
       "      <td>1826.0</td>\n",
       "      <td>1783.0</td>\n",
       "      <td>1718.0</td>\n",
       "      <td>1636.0</td>\n",
       "      <td>1549.0</td>\n",
       "      <td>1493.0</td>\n",
       "      <td>1459.0</td>\n",
       "      <td>1443.0</td>\n",
       "      <td>1440.0</td>\n",
       "      <td>1459.0</td>\n",
       "      <td>...</td>\n",
       "      <td>1916.0</td>\n",
       "      <td>1888.0</td>\n",
       "      <td>1862.0</td>\n",
       "      <td>1922.0</td>\n",
       "      <td>1994.0</td>\n",
       "      <td>2029.0</td>\n",
       "      <td>2023-02-01 01:00:00+00:00</td>\n",
       "      <td>0</td>\n",
       "      <td>3.458500</td>\n",
       "      <td>2004.0</td>\n",
       "    </tr>\n",
       "    <tr>\n",
       "      <th>4</th>\n",
       "      <td>1868.0</td>\n",
       "      <td>1816.0</td>\n",
       "      <td>1776.0</td>\n",
       "      <td>1731.0</td>\n",
       "      <td>1650.0</td>\n",
       "      <td>1556.0</td>\n",
       "      <td>1516.0</td>\n",
       "      <td>1481.0</td>\n",
       "      <td>1472.0</td>\n",
       "      <td>1471.0</td>\n",
       "      <td>...</td>\n",
       "      <td>1898.0</td>\n",
       "      <td>1882.0</td>\n",
       "      <td>1846.0</td>\n",
       "      <td>1873.0</td>\n",
       "      <td>1935.0</td>\n",
       "      <td>1994.0</td>\n",
       "      <td>2023-02-02 00:00:00+00:00</td>\n",
       "      <td>0</td>\n",
       "      <td>3.258500</td>\n",
       "      <td>2041.0</td>\n",
       "    </tr>\n",
       "    <tr>\n",
       "      <th>...</th>\n",
       "      <td>...</td>\n",
       "      <td>...</td>\n",
       "      <td>...</td>\n",
       "      <td>...</td>\n",
       "      <td>...</td>\n",
       "      <td>...</td>\n",
       "      <td>...</td>\n",
       "      <td>...</td>\n",
       "      <td>...</td>\n",
       "      <td>...</td>\n",
       "      <td>...</td>\n",
       "      <td>...</td>\n",
       "      <td>...</td>\n",
       "      <td>...</td>\n",
       "      <td>...</td>\n",
       "      <td>...</td>\n",
       "      <td>...</td>\n",
       "      <td>...</td>\n",
       "      <td>...</td>\n",
       "      <td>...</td>\n",
       "      <td>...</td>\n",
       "    </tr>\n",
       "    <tr>\n",
       "      <th>9147</th>\n",
       "      <td>1946.0</td>\n",
       "      <td>2103.0</td>\n",
       "      <td>2262.0</td>\n",
       "      <td>2405.0</td>\n",
       "      <td>2368.0</td>\n",
       "      <td>2279.0</td>\n",
       "      <td>2150.0</td>\n",
       "      <td>1986.0</td>\n",
       "      <td>1832.0</td>\n",
       "      <td>1727.0</td>\n",
       "      <td>...</td>\n",
       "      <td>2099.0</td>\n",
       "      <td>2103.0</td>\n",
       "      <td>2057.0</td>\n",
       "      <td>2029.0</td>\n",
       "      <td>2115.0</td>\n",
       "      <td>2066.0</td>\n",
       "      <td>2025-03-31 21:00:00+00:00</td>\n",
       "      <td>10</td>\n",
       "      <td>10.358500</td>\n",
       "      <td>2037.0</td>\n",
       "    </tr>\n",
       "    <tr>\n",
       "      <th>9148</th>\n",
       "      <td>2245.0</td>\n",
       "      <td>2262.0</td>\n",
       "      <td>2315.0</td>\n",
       "      <td>2407.0</td>\n",
       "      <td>2484.0</td>\n",
       "      <td>2426.0</td>\n",
       "      <td>2336.0</td>\n",
       "      <td>2191.0</td>\n",
       "      <td>2019.0</td>\n",
       "      <td>1859.0</td>\n",
       "      <td>...</td>\n",
       "      <td>2079.0</td>\n",
       "      <td>2041.0</td>\n",
       "      <td>2037.0</td>\n",
       "      <td>2127.0</td>\n",
       "      <td>2226.0</td>\n",
       "      <td>2236.0</td>\n",
       "      <td>2025-04-01 20:00:00+00:00</td>\n",
       "      <td>10</td>\n",
       "      <td>9.608500</td>\n",
       "      <td>2231.0</td>\n",
       "    </tr>\n",
       "    <tr>\n",
       "      <th>9149</th>\n",
       "      <td>2188.0</td>\n",
       "      <td>2204.0</td>\n",
       "      <td>2234.0</td>\n",
       "      <td>2308.0</td>\n",
       "      <td>2415.0</td>\n",
       "      <td>2474.0</td>\n",
       "      <td>2424.0</td>\n",
       "      <td>2325.0</td>\n",
       "      <td>2182.0</td>\n",
       "      <td>2004.0</td>\n",
       "      <td>...</td>\n",
       "      <td>2221.0</td>\n",
       "      <td>2285.0</td>\n",
       "      <td>2343.0</td>\n",
       "      <td>2363.0</td>\n",
       "      <td>2393.0</td>\n",
       "      <td>2405.0</td>\n",
       "      <td>2025-04-02 19:00:00+00:00</td>\n",
       "      <td>10</td>\n",
       "      <td>10.058500</td>\n",
       "      <td>2418.0</td>\n",
       "    </tr>\n",
       "    <tr>\n",
       "      <th>9150</th>\n",
       "      <td>2049.0</td>\n",
       "      <td>2045.0</td>\n",
       "      <td>2018.0</td>\n",
       "      <td>2104.0</td>\n",
       "      <td>2232.0</td>\n",
       "      <td>2357.0</td>\n",
       "      <td>2436.0</td>\n",
       "      <td>2395.0</td>\n",
       "      <td>2314.0</td>\n",
       "      <td>2186.0</td>\n",
       "      <td>...</td>\n",
       "      <td>2175.0</td>\n",
       "      <td>2181.0</td>\n",
       "      <td>2134.0</td>\n",
       "      <td>2089.0</td>\n",
       "      <td>2020.0</td>\n",
       "      <td>2037.0</td>\n",
       "      <td>2025-04-03 18:00:00+00:00</td>\n",
       "      <td>10</td>\n",
       "      <td>11.508500</td>\n",
       "      <td>2006.0</td>\n",
       "    </tr>\n",
       "    <tr>\n",
       "      <th>9151</th>\n",
       "      <td>1606.0</td>\n",
       "      <td>1590.0</td>\n",
       "      <td>1564.0</td>\n",
       "      <td>1617.0</td>\n",
       "      <td>1752.0</td>\n",
       "      <td>1962.0</td>\n",
       "      <td>2164.0</td>\n",
       "      <td>2324.0</td>\n",
       "      <td>2304.0</td>\n",
       "      <td>2249.0</td>\n",
       "      <td>...</td>\n",
       "      <td>1990.0</td>\n",
       "      <td>2039.0</td>\n",
       "      <td>1951.0</td>\n",
       "      <td>1852.0</td>\n",
       "      <td>1817.0</td>\n",
       "      <td>1858.0</td>\n",
       "      <td>2025-04-04 17:00:00+00:00</td>\n",
       "      <td>10</td>\n",
       "      <td>16.908501</td>\n",
       "      <td>1808.0</td>\n",
       "    </tr>\n",
       "  </tbody>\n",
       "</table>\n",
       "<p>9152 rows × 676 columns</p>\n",
       "</div>"
      ],
      "text/plain": [
       "      demand_previous_672_hour  demand_previous_671_hour  \\\n",
       "0                       1537.0                    1477.0   \n",
       "1                       1572.0                    1516.0   \n",
       "2                       1734.0                    1664.0   \n",
       "3                       1826.0                    1783.0   \n",
       "4                       1868.0                    1816.0   \n",
       "...                        ...                       ...   \n",
       "9147                    1946.0                    2103.0   \n",
       "9148                    2245.0                    2262.0   \n",
       "9149                    2188.0                    2204.0   \n",
       "9150                    2049.0                    2045.0   \n",
       "9151                    1606.0                    1590.0   \n",
       "\n",
       "      demand_previous_670_hour  demand_previous_669_hour  \\\n",
       "0                       1428.0                    1392.0   \n",
       "1                       1450.0                    1384.0   \n",
       "2                       1597.0                    1530.0   \n",
       "3                       1718.0                    1636.0   \n",
       "4                       1776.0                    1731.0   \n",
       "...                        ...                       ...   \n",
       "9147                    2262.0                    2405.0   \n",
       "9148                    2315.0                    2407.0   \n",
       "9149                    2234.0                    2308.0   \n",
       "9150                    2018.0                    2104.0   \n",
       "9151                    1564.0                    1617.0   \n",
       "\n",
       "      demand_previous_668_hour  demand_previous_667_hour  \\\n",
       "0                       1366.0                    1353.0   \n",
       "1                       1351.0                    1335.0   \n",
       "2                       1487.0                    1455.0   \n",
       "3                       1549.0                    1493.0   \n",
       "4                       1650.0                    1556.0   \n",
       "...                        ...                       ...   \n",
       "9147                    2368.0                    2279.0   \n",
       "9148                    2484.0                    2426.0   \n",
       "9149                    2415.0                    2474.0   \n",
       "9150                    2232.0                    2357.0   \n",
       "9151                    1752.0                    1962.0   \n",
       "\n",
       "      demand_previous_666_hour  demand_previous_665_hour  \\\n",
       "0                       1352.0                    1361.0   \n",
       "1                       1334.0                    1341.0   \n",
       "2                       1435.0                    1437.0   \n",
       "3                       1459.0                    1443.0   \n",
       "4                       1516.0                    1481.0   \n",
       "...                        ...                       ...   \n",
       "9147                    2150.0                    1986.0   \n",
       "9148                    2336.0                    2191.0   \n",
       "9149                    2424.0                    2325.0   \n",
       "9150                    2436.0                    2395.0   \n",
       "9151                    2164.0                    2324.0   \n",
       "\n",
       "      demand_previous_664_hour  demand_previous_663_hour  ...  \\\n",
       "0                       1394.0                    1429.0  ...   \n",
       "1                       1375.0                    1425.0  ...   \n",
       "2                       1456.0                    1510.0  ...   \n",
       "3                       1440.0                    1459.0  ...   \n",
       "4                       1472.0                    1471.0  ...   \n",
       "...                        ...                       ...  ...   \n",
       "9147                    1832.0                    1727.0  ...   \n",
       "9148                    2019.0                    1859.0  ...   \n",
       "9149                    2182.0                    2004.0  ...   \n",
       "9150                    2314.0                    2186.0  ...   \n",
       "9151                    2304.0                    2249.0  ...   \n",
       "\n",
       "      demand_previous_6_hour  demand_previous_5_hour  demand_previous_4_hour  \\\n",
       "0                     1721.0                  1786.0                  1807.0   \n",
       "1                     1716.0                  1744.0                  1796.0   \n",
       "2                     1916.0                  1910.0                  1933.0   \n",
       "3                     1916.0                  1888.0                  1862.0   \n",
       "4                     1898.0                  1882.0                  1846.0   \n",
       "...                      ...                     ...                     ...   \n",
       "9147                  2099.0                  2103.0                  2057.0   \n",
       "9148                  2079.0                  2041.0                  2037.0   \n",
       "9149                  2221.0                  2285.0                  2343.0   \n",
       "9150                  2175.0                  2181.0                  2134.0   \n",
       "9151                  1990.0                  2039.0                  1951.0   \n",
       "\n",
       "      demand_previous_3_hour  demand_previous_2_hour  demand_previous_1_hour  \\\n",
       "0                     1776.0                  1745.0                  1732.0   \n",
       "1                     1807.0                  1789.0                  1764.0   \n",
       "2                     1983.0                  1995.0                  1968.0   \n",
       "3                     1922.0                  1994.0                  2029.0   \n",
       "4                     1873.0                  1935.0                  1994.0   \n",
       "...                      ...                     ...                     ...   \n",
       "9147                  2029.0                  2115.0                  2066.0   \n",
       "9148                  2127.0                  2226.0                  2236.0   \n",
       "9149                  2363.0                  2393.0                  2405.0   \n",
       "9150                  2089.0                  2020.0                  2037.0   \n",
       "9151                  1852.0                  1817.0                  1858.0   \n",
       "\n",
       "                           date  sub_region_code  temperature_2m  \\\n",
       "0     2023-01-29 04:00:00+00:00                0        0.408500   \n",
       "1     2023-01-30 03:00:00+00:00                0        2.158500   \n",
       "2     2023-01-31 02:00:00+00:00                0        2.158500   \n",
       "3     2023-02-01 01:00:00+00:00                0        3.458500   \n",
       "4     2023-02-02 00:00:00+00:00                0        3.258500   \n",
       "...                         ...              ...             ...   \n",
       "9147  2025-03-31 21:00:00+00:00               10       10.358500   \n",
       "9148  2025-04-01 20:00:00+00:00               10        9.608500   \n",
       "9149  2025-04-02 19:00:00+00:00               10       10.058500   \n",
       "9150  2025-04-03 18:00:00+00:00               10       11.508500   \n",
       "9151  2025-04-04 17:00:00+00:00               10       16.908501   \n",
       "\n",
       "      target_demand_values_next_hour  \n",
       "0                             1661.0  \n",
       "1                             1719.0  \n",
       "2                             1933.0  \n",
       "3                             2004.0  \n",
       "4                             2041.0  \n",
       "...                              ...  \n",
       "9147                          2037.0  \n",
       "9148                          2231.0  \n",
       "9149                          2418.0  \n",
       "9150                          2006.0  \n",
       "9151                          1808.0  \n",
       "\n",
       "[9152 rows x 676 columns]"
      ]
     },
     "execution_count": 11,
     "metadata": {},
     "output_type": "execute_result"
    }
   ],
   "source": [
    "features_and_target"
   ]
  },
  {
   "cell_type": "code",
   "execution_count": 12,
   "metadata": {},
   "outputs": [
    {
     "data": {
      "text/plain": [
       "'2023-01-29 04:00:00+00:00'"
      ]
     },
     "execution_count": 12,
     "metadata": {},
     "output_type": "execute_result"
    }
   ],
   "source": [
    "features_and_target.date.min()"
   ]
  },
  {
   "cell_type": "code",
   "execution_count": 13,
   "metadata": {},
   "outputs": [
    {
     "data": {
      "text/plain": [
       "'2025-04-04 17:00:00+00:00'"
      ]
     },
     "execution_count": 13,
     "metadata": {},
     "output_type": "execute_result"
    }
   ],
   "source": [
    "features_and_target.date.max()"
   ]
  },
  {
   "cell_type": "code",
   "execution_count": 14,
   "metadata": {},
   "outputs": [
    {
     "name": "stdout",
     "output_type": "stream",
     "text": [
      "cutoff_date=Timestamp('2025-02-04 00:00:00+0000', tz='UTC')\n",
      "X_train.shape=(8459, 675)\n",
      "y_train.shape=(8459,)\n",
      "X_test.shape=(693, 675)\n",
      "y_test.shape=(693,)\n",
      "Training data range: 2023-01-29 04:00:00+00:00 to 2025-02-03 08:00:00+00:00\n",
      "Testing data range: 2025-02-04 07:00:00+00:00 to 2025-04-04 17:00:00+00:00\n"
     ]
    }
   ],
   "source": [
    "#split the data\n",
    "from datetime import date, timedelta\n",
    "from pytz import timezone\n",
    "import pandas as pd\n",
    "from src.component.data_info import train_test_split\n",
    "\n",
    "\n",
    "cutoff_date = pd.to_datetime(date.today() - timedelta(days=60), utc=True)\n",
    "\n",
    "print(f'{cutoff_date=}')\n",
    "\n",
    "X_train, y_train, X_test, y_test = train_test_split(\n",
    "    features_and_target,\n",
    "    cutoff_date,\n",
    "    target_column_name='target_demand_values_next_hour'   \n",
    ")\n",
    "\n",
    "print(f'{X_train.shape=}')\n",
    "print(f'{y_train.shape=}')\n",
    "print(f'{X_test.shape=}')\n",
    "print(f'{y_test.shape=}')\n",
    "print(f\"Training data range: {X_train['date'].min()} to {X_train['date'].max()}\")\n",
    "print(f\"Testing data range: {X_test['date'].min()} to {X_test['date'].max()}\")\n"
   ]
  },
  {
   "cell_type": "code",
   "execution_count": 15,
   "metadata": {},
   "outputs": [],
   "source": [
    "x_tr=X_train.drop(['date'],axis=1)\n",
    "x_ts=X_test.drop(['date'],axis=1)"
   ]
  },
  {
   "cell_type": "code",
   "execution_count": 16,
   "metadata": {},
   "outputs": [
    {
     "name": "stdout",
     "output_type": "stream",
     "text": [
      "(693, 674)\n",
      "   demand_previous_672_hour  demand_previous_671_hour  \\\n",
      "0                    1646.0                    1616.0   \n",
      "1                    1584.0                    1540.0   \n",
      "2                    1773.0                    1682.0   \n",
      "3                    1872.0                    1798.0   \n",
      "4                    1869.0                    1820.0   \n",
      "\n",
      "   demand_previous_670_hour  demand_previous_669_hour  \\\n",
      "0                    1589.0                    1581.0   \n",
      "1                    1520.0                    1513.0   \n",
      "2                    1629.0                    1594.0   \n",
      "3                    1712.0                    1667.0   \n",
      "4                    1754.0                    1674.0   \n",
      "\n",
      "   demand_previous_668_hour  demand_previous_667_hour  \\\n",
      "0                    1598.0                    1677.0   \n",
      "1                    1515.0                    1540.0   \n",
      "2                    1576.0                    1562.0   \n",
      "3                    1629.0                    1607.0   \n",
      "4                    1599.0                    1555.0   \n",
      "\n",
      "   demand_previous_666_hour  demand_previous_665_hour  \\\n",
      "0                    1796.0                    1893.0   \n",
      "1                    1604.0                    1711.0   \n",
      "2                    1582.0                    1648.0   \n",
      "3                    1602.0                    1621.0   \n",
      "4                    1531.0                    1520.0   \n",
      "\n",
      "   demand_previous_664_hour  demand_previous_663_hour  ...  \\\n",
      "0                    1921.0                    1954.0  ...   \n",
      "1                    1811.0                    1838.0  ...   \n",
      "2                    1777.0                    1878.0  ...   \n",
      "3                    1680.0                    1779.0  ...   \n",
      "4                    1521.0                    1545.0  ...   \n",
      "\n",
      "   demand_previous_8_hour  demand_previous_7_hour  demand_previous_6_hour  \\\n",
      "0                  2007.0                  2054.0                  2044.0   \n",
      "1                  1918.0                  2009.0                  2073.0   \n",
      "2                  1797.0                  1869.0                  1970.0   \n",
      "3                  1829.0                  1822.0                  1858.0   \n",
      "4                  1708.0                  1686.0                  1705.0   \n",
      "\n",
      "   demand_previous_5_hour  demand_previous_4_hour  demand_previous_3_hour  \\\n",
      "0                  2001.0                  1956.0                  1900.0   \n",
      "1                  2079.0                  2047.0                  1994.0   \n",
      "2                  2020.0                  2006.0                  1973.0   \n",
      "3                  1904.0                  1932.0                  1911.0   \n",
      "4                  1748.0                  1789.0                  1813.0   \n",
      "\n",
      "   demand_previous_2_hour  demand_previous_1_hour  sub_region_code  \\\n",
      "0                  1825.0                  1770.0                0   \n",
      "1                  1892.0                  1824.0                0   \n",
      "2                  1920.0                  1835.0                0   \n",
      "3                  1869.0                  1817.0                0   \n",
      "4                  1794.0                  1759.0                0   \n",
      "\n",
      "   temperature_2m  \n",
      "0          8.3585  \n",
      "1          2.9085  \n",
      "2         -1.6915  \n",
      "3          1.2585  \n",
      "4          6.8085  \n",
      "\n",
      "[5 rows x 674 columns]\n"
     ]
    }
   ],
   "source": [
    "print(x_ts.shape)\n",
    "print(x_ts.head() if hasattr(x_ts, \"head\") else x_ts)"
   ]
  },
  {
   "cell_type": "code",
   "execution_count": 17,
   "metadata": {},
   "outputs": [
    {
     "data": {
      "text/html": [
       "<style>#sk-container-id-1 {\n",
       "  /* Definition of color scheme common for light and dark mode */\n",
       "  --sklearn-color-text: black;\n",
       "  --sklearn-color-line: gray;\n",
       "  /* Definition of color scheme for unfitted estimators */\n",
       "  --sklearn-color-unfitted-level-0: #fff5e6;\n",
       "  --sklearn-color-unfitted-level-1: #f6e4d2;\n",
       "  --sklearn-color-unfitted-level-2: #ffe0b3;\n",
       "  --sklearn-color-unfitted-level-3: chocolate;\n",
       "  /* Definition of color scheme for fitted estimators */\n",
       "  --sklearn-color-fitted-level-0: #f0f8ff;\n",
       "  --sklearn-color-fitted-level-1: #d4ebff;\n",
       "  --sklearn-color-fitted-level-2: #b3dbfd;\n",
       "  --sklearn-color-fitted-level-3: cornflowerblue;\n",
       "\n",
       "  /* Specific color for light theme */\n",
       "  --sklearn-color-text-on-default-background: var(--sg-text-color, var(--theme-code-foreground, var(--jp-content-font-color1, black)));\n",
       "  --sklearn-color-background: var(--sg-background-color, var(--theme-background, var(--jp-layout-color0, white)));\n",
       "  --sklearn-color-border-box: var(--sg-text-color, var(--theme-code-foreground, var(--jp-content-font-color1, black)));\n",
       "  --sklearn-color-icon: #696969;\n",
       "\n",
       "  @media (prefers-color-scheme: dark) {\n",
       "    /* Redefinition of color scheme for dark theme */\n",
       "    --sklearn-color-text-on-default-background: var(--sg-text-color, var(--theme-code-foreground, var(--jp-content-font-color1, white)));\n",
       "    --sklearn-color-background: var(--sg-background-color, var(--theme-background, var(--jp-layout-color0, #111)));\n",
       "    --sklearn-color-border-box: var(--sg-text-color, var(--theme-code-foreground, var(--jp-content-font-color1, white)));\n",
       "    --sklearn-color-icon: #878787;\n",
       "  }\n",
       "}\n",
       "\n",
       "#sk-container-id-1 {\n",
       "  color: var(--sklearn-color-text);\n",
       "}\n",
       "\n",
       "#sk-container-id-1 pre {\n",
       "  padding: 0;\n",
       "}\n",
       "\n",
       "#sk-container-id-1 input.sk-hidden--visually {\n",
       "  border: 0;\n",
       "  clip: rect(1px 1px 1px 1px);\n",
       "  clip: rect(1px, 1px, 1px, 1px);\n",
       "  height: 1px;\n",
       "  margin: -1px;\n",
       "  overflow: hidden;\n",
       "  padding: 0;\n",
       "  position: absolute;\n",
       "  width: 1px;\n",
       "}\n",
       "\n",
       "#sk-container-id-1 div.sk-dashed-wrapped {\n",
       "  border: 1px dashed var(--sklearn-color-line);\n",
       "  margin: 0 0.4em 0.5em 0.4em;\n",
       "  box-sizing: border-box;\n",
       "  padding-bottom: 0.4em;\n",
       "  background-color: var(--sklearn-color-background);\n",
       "}\n",
       "\n",
       "#sk-container-id-1 div.sk-container {\n",
       "  /* jupyter's `normalize.less` sets `[hidden] { display: none; }`\n",
       "     but bootstrap.min.css set `[hidden] { display: none !important; }`\n",
       "     so we also need the `!important` here to be able to override the\n",
       "     default hidden behavior on the sphinx rendered scikit-learn.org.\n",
       "     See: https://github.com/scikit-learn/scikit-learn/issues/21755 */\n",
       "  display: inline-block !important;\n",
       "  position: relative;\n",
       "}\n",
       "\n",
       "#sk-container-id-1 div.sk-text-repr-fallback {\n",
       "  display: none;\n",
       "}\n",
       "\n",
       "div.sk-parallel-item,\n",
       "div.sk-serial,\n",
       "div.sk-item {\n",
       "  /* draw centered vertical line to link estimators */\n",
       "  background-image: linear-gradient(var(--sklearn-color-text-on-default-background), var(--sklearn-color-text-on-default-background));\n",
       "  background-size: 2px 100%;\n",
       "  background-repeat: no-repeat;\n",
       "  background-position: center center;\n",
       "}\n",
       "\n",
       "/* Parallel-specific style estimator block */\n",
       "\n",
       "#sk-container-id-1 div.sk-parallel-item::after {\n",
       "  content: \"\";\n",
       "  width: 100%;\n",
       "  border-bottom: 2px solid var(--sklearn-color-text-on-default-background);\n",
       "  flex-grow: 1;\n",
       "}\n",
       "\n",
       "#sk-container-id-1 div.sk-parallel {\n",
       "  display: flex;\n",
       "  align-items: stretch;\n",
       "  justify-content: center;\n",
       "  background-color: var(--sklearn-color-background);\n",
       "  position: relative;\n",
       "}\n",
       "\n",
       "#sk-container-id-1 div.sk-parallel-item {\n",
       "  display: flex;\n",
       "  flex-direction: column;\n",
       "}\n",
       "\n",
       "#sk-container-id-1 div.sk-parallel-item:first-child::after {\n",
       "  align-self: flex-end;\n",
       "  width: 50%;\n",
       "}\n",
       "\n",
       "#sk-container-id-1 div.sk-parallel-item:last-child::after {\n",
       "  align-self: flex-start;\n",
       "  width: 50%;\n",
       "}\n",
       "\n",
       "#sk-container-id-1 div.sk-parallel-item:only-child::after {\n",
       "  width: 0;\n",
       "}\n",
       "\n",
       "/* Serial-specific style estimator block */\n",
       "\n",
       "#sk-container-id-1 div.sk-serial {\n",
       "  display: flex;\n",
       "  flex-direction: column;\n",
       "  align-items: center;\n",
       "  background-color: var(--sklearn-color-background);\n",
       "  padding-right: 1em;\n",
       "  padding-left: 1em;\n",
       "}\n",
       "\n",
       "\n",
       "/* Toggleable style: style used for estimator/Pipeline/ColumnTransformer box that is\n",
       "clickable and can be expanded/collapsed.\n",
       "- Pipeline and ColumnTransformer use this feature and define the default style\n",
       "- Estimators will overwrite some part of the style using the `sk-estimator` class\n",
       "*/\n",
       "\n",
       "/* Pipeline and ColumnTransformer style (default) */\n",
       "\n",
       "#sk-container-id-1 div.sk-toggleable {\n",
       "  /* Default theme specific background. It is overwritten whether we have a\n",
       "  specific estimator or a Pipeline/ColumnTransformer */\n",
       "  background-color: var(--sklearn-color-background);\n",
       "}\n",
       "\n",
       "/* Toggleable label */\n",
       "#sk-container-id-1 label.sk-toggleable__label {\n",
       "  cursor: pointer;\n",
       "  display: block;\n",
       "  width: 100%;\n",
       "  margin-bottom: 0;\n",
       "  padding: 0.5em;\n",
       "  box-sizing: border-box;\n",
       "  text-align: center;\n",
       "}\n",
       "\n",
       "#sk-container-id-1 label.sk-toggleable__label-arrow:before {\n",
       "  /* Arrow on the left of the label */\n",
       "  content: \"▸\";\n",
       "  float: left;\n",
       "  margin-right: 0.25em;\n",
       "  color: var(--sklearn-color-icon);\n",
       "}\n",
       "\n",
       "#sk-container-id-1 label.sk-toggleable__label-arrow:hover:before {\n",
       "  color: var(--sklearn-color-text);\n",
       "}\n",
       "\n",
       "/* Toggleable content - dropdown */\n",
       "\n",
       "#sk-container-id-1 div.sk-toggleable__content {\n",
       "  max-height: 0;\n",
       "  max-width: 0;\n",
       "  overflow: hidden;\n",
       "  text-align: left;\n",
       "  /* unfitted */\n",
       "  background-color: var(--sklearn-color-unfitted-level-0);\n",
       "}\n",
       "\n",
       "#sk-container-id-1 div.sk-toggleable__content.fitted {\n",
       "  /* fitted */\n",
       "  background-color: var(--sklearn-color-fitted-level-0);\n",
       "}\n",
       "\n",
       "#sk-container-id-1 div.sk-toggleable__content pre {\n",
       "  margin: 0.2em;\n",
       "  border-radius: 0.25em;\n",
       "  color: var(--sklearn-color-text);\n",
       "  /* unfitted */\n",
       "  background-color: var(--sklearn-color-unfitted-level-0);\n",
       "}\n",
       "\n",
       "#sk-container-id-1 div.sk-toggleable__content.fitted pre {\n",
       "  /* unfitted */\n",
       "  background-color: var(--sklearn-color-fitted-level-0);\n",
       "}\n",
       "\n",
       "#sk-container-id-1 input.sk-toggleable__control:checked~div.sk-toggleable__content {\n",
       "  /* Expand drop-down */\n",
       "  max-height: 200px;\n",
       "  max-width: 100%;\n",
       "  overflow: auto;\n",
       "}\n",
       "\n",
       "#sk-container-id-1 input.sk-toggleable__control:checked~label.sk-toggleable__label-arrow:before {\n",
       "  content: \"▾\";\n",
       "}\n",
       "\n",
       "/* Pipeline/ColumnTransformer-specific style */\n",
       "\n",
       "#sk-container-id-1 div.sk-label input.sk-toggleable__control:checked~label.sk-toggleable__label {\n",
       "  color: var(--sklearn-color-text);\n",
       "  background-color: var(--sklearn-color-unfitted-level-2);\n",
       "}\n",
       "\n",
       "#sk-container-id-1 div.sk-label.fitted input.sk-toggleable__control:checked~label.sk-toggleable__label {\n",
       "  background-color: var(--sklearn-color-fitted-level-2);\n",
       "}\n",
       "\n",
       "/* Estimator-specific style */\n",
       "\n",
       "/* Colorize estimator box */\n",
       "#sk-container-id-1 div.sk-estimator input.sk-toggleable__control:checked~label.sk-toggleable__label {\n",
       "  /* unfitted */\n",
       "  background-color: var(--sklearn-color-unfitted-level-2);\n",
       "}\n",
       "\n",
       "#sk-container-id-1 div.sk-estimator.fitted input.sk-toggleable__control:checked~label.sk-toggleable__label {\n",
       "  /* fitted */\n",
       "  background-color: var(--sklearn-color-fitted-level-2);\n",
       "}\n",
       "\n",
       "#sk-container-id-1 div.sk-label label.sk-toggleable__label,\n",
       "#sk-container-id-1 div.sk-label label {\n",
       "  /* The background is the default theme color */\n",
       "  color: var(--sklearn-color-text-on-default-background);\n",
       "}\n",
       "\n",
       "/* On hover, darken the color of the background */\n",
       "#sk-container-id-1 div.sk-label:hover label.sk-toggleable__label {\n",
       "  color: var(--sklearn-color-text);\n",
       "  background-color: var(--sklearn-color-unfitted-level-2);\n",
       "}\n",
       "\n",
       "/* Label box, darken color on hover, fitted */\n",
       "#sk-container-id-1 div.sk-label.fitted:hover label.sk-toggleable__label.fitted {\n",
       "  color: var(--sklearn-color-text);\n",
       "  background-color: var(--sklearn-color-fitted-level-2);\n",
       "}\n",
       "\n",
       "/* Estimator label */\n",
       "\n",
       "#sk-container-id-1 div.sk-label label {\n",
       "  font-family: monospace;\n",
       "  font-weight: bold;\n",
       "  display: inline-block;\n",
       "  line-height: 1.2em;\n",
       "}\n",
       "\n",
       "#sk-container-id-1 div.sk-label-container {\n",
       "  text-align: center;\n",
       "}\n",
       "\n",
       "/* Estimator-specific */\n",
       "#sk-container-id-1 div.sk-estimator {\n",
       "  font-family: monospace;\n",
       "  border: 1px dotted var(--sklearn-color-border-box);\n",
       "  border-radius: 0.25em;\n",
       "  box-sizing: border-box;\n",
       "  margin-bottom: 0.5em;\n",
       "  /* unfitted */\n",
       "  background-color: var(--sklearn-color-unfitted-level-0);\n",
       "}\n",
       "\n",
       "#sk-container-id-1 div.sk-estimator.fitted {\n",
       "  /* fitted */\n",
       "  background-color: var(--sklearn-color-fitted-level-0);\n",
       "}\n",
       "\n",
       "/* on hover */\n",
       "#sk-container-id-1 div.sk-estimator:hover {\n",
       "  /* unfitted */\n",
       "  background-color: var(--sklearn-color-unfitted-level-2);\n",
       "}\n",
       "\n",
       "#sk-container-id-1 div.sk-estimator.fitted:hover {\n",
       "  /* fitted */\n",
       "  background-color: var(--sklearn-color-fitted-level-2);\n",
       "}\n",
       "\n",
       "/* Specification for estimator info (e.g. \"i\" and \"?\") */\n",
       "\n",
       "/* Common style for \"i\" and \"?\" */\n",
       "\n",
       ".sk-estimator-doc-link,\n",
       "a:link.sk-estimator-doc-link,\n",
       "a:visited.sk-estimator-doc-link {\n",
       "  float: right;\n",
       "  font-size: smaller;\n",
       "  line-height: 1em;\n",
       "  font-family: monospace;\n",
       "  background-color: var(--sklearn-color-background);\n",
       "  border-radius: 1em;\n",
       "  height: 1em;\n",
       "  width: 1em;\n",
       "  text-decoration: none !important;\n",
       "  margin-left: 1ex;\n",
       "  /* unfitted */\n",
       "  border: var(--sklearn-color-unfitted-level-1) 1pt solid;\n",
       "  color: var(--sklearn-color-unfitted-level-1);\n",
       "}\n",
       "\n",
       ".sk-estimator-doc-link.fitted,\n",
       "a:link.sk-estimator-doc-link.fitted,\n",
       "a:visited.sk-estimator-doc-link.fitted {\n",
       "  /* fitted */\n",
       "  border: var(--sklearn-color-fitted-level-1) 1pt solid;\n",
       "  color: var(--sklearn-color-fitted-level-1);\n",
       "}\n",
       "\n",
       "/* On hover */\n",
       "div.sk-estimator:hover .sk-estimator-doc-link:hover,\n",
       ".sk-estimator-doc-link:hover,\n",
       "div.sk-label-container:hover .sk-estimator-doc-link:hover,\n",
       ".sk-estimator-doc-link:hover {\n",
       "  /* unfitted */\n",
       "  background-color: var(--sklearn-color-unfitted-level-3);\n",
       "  color: var(--sklearn-color-background);\n",
       "  text-decoration: none;\n",
       "}\n",
       "\n",
       "div.sk-estimator.fitted:hover .sk-estimator-doc-link.fitted:hover,\n",
       ".sk-estimator-doc-link.fitted:hover,\n",
       "div.sk-label-container:hover .sk-estimator-doc-link.fitted:hover,\n",
       ".sk-estimator-doc-link.fitted:hover {\n",
       "  /* fitted */\n",
       "  background-color: var(--sklearn-color-fitted-level-3);\n",
       "  color: var(--sklearn-color-background);\n",
       "  text-decoration: none;\n",
       "}\n",
       "\n",
       "/* Span, style for the box shown on hovering the info icon */\n",
       ".sk-estimator-doc-link span {\n",
       "  display: none;\n",
       "  z-index: 9999;\n",
       "  position: relative;\n",
       "  font-weight: normal;\n",
       "  right: .2ex;\n",
       "  padding: .5ex;\n",
       "  margin: .5ex;\n",
       "  width: min-content;\n",
       "  min-width: 20ex;\n",
       "  max-width: 50ex;\n",
       "  color: var(--sklearn-color-text);\n",
       "  box-shadow: 2pt 2pt 4pt #999;\n",
       "  /* unfitted */\n",
       "  background: var(--sklearn-color-unfitted-level-0);\n",
       "  border: .5pt solid var(--sklearn-color-unfitted-level-3);\n",
       "}\n",
       "\n",
       ".sk-estimator-doc-link.fitted span {\n",
       "  /* fitted */\n",
       "  background: var(--sklearn-color-fitted-level-0);\n",
       "  border: var(--sklearn-color-fitted-level-3);\n",
       "}\n",
       "\n",
       ".sk-estimator-doc-link:hover span {\n",
       "  display: block;\n",
       "}\n",
       "\n",
       "/* \"?\"-specific style due to the `<a>` HTML tag */\n",
       "\n",
       "#sk-container-id-1 a.estimator_doc_link {\n",
       "  float: right;\n",
       "  font-size: 1rem;\n",
       "  line-height: 1em;\n",
       "  font-family: monospace;\n",
       "  background-color: var(--sklearn-color-background);\n",
       "  border-radius: 1rem;\n",
       "  height: 1rem;\n",
       "  width: 1rem;\n",
       "  text-decoration: none;\n",
       "  /* unfitted */\n",
       "  color: var(--sklearn-color-unfitted-level-1);\n",
       "  border: var(--sklearn-color-unfitted-level-1) 1pt solid;\n",
       "}\n",
       "\n",
       "#sk-container-id-1 a.estimator_doc_link.fitted {\n",
       "  /* fitted */\n",
       "  border: var(--sklearn-color-fitted-level-1) 1pt solid;\n",
       "  color: var(--sklearn-color-fitted-level-1);\n",
       "}\n",
       "\n",
       "/* On hover */\n",
       "#sk-container-id-1 a.estimator_doc_link:hover {\n",
       "  /* unfitted */\n",
       "  background-color: var(--sklearn-color-unfitted-level-3);\n",
       "  color: var(--sklearn-color-background);\n",
       "  text-decoration: none;\n",
       "}\n",
       "\n",
       "#sk-container-id-1 a.estimator_doc_link.fitted:hover {\n",
       "  /* fitted */\n",
       "  background-color: var(--sklearn-color-fitted-level-3);\n",
       "}\n",
       "</style><div id=\"sk-container-id-1\" class=\"sk-top-container\"><div class=\"sk-text-repr-fallback\"><pre>LinearRegression()</pre><b>In a Jupyter environment, please rerun this cell to show the HTML representation or trust the notebook. <br />On GitHub, the HTML representation is unable to render, please try loading this page with nbviewer.org.</b></div><div class=\"sk-container\" hidden><div class=\"sk-item\"><div class=\"sk-estimator fitted sk-toggleable\"><input class=\"sk-toggleable__control sk-hidden--visually\" id=\"sk-estimator-id-1\" type=\"checkbox\" checked><label for=\"sk-estimator-id-1\" class=\"sk-toggleable__label fitted sk-toggleable__label-arrow fitted\">&nbsp;&nbsp;LinearRegression<a class=\"sk-estimator-doc-link fitted\" rel=\"noreferrer\" target=\"_blank\" href=\"https://scikit-learn.org/1.5/modules/generated/sklearn.linear_model.LinearRegression.html\">?<span>Documentation for LinearRegression</span></a><span class=\"sk-estimator-doc-link fitted\">i<span>Fitted</span></span></label><div class=\"sk-toggleable__content fitted\"><pre>LinearRegression()</pre></div> </div></div></div></div>"
      ],
      "text/plain": [
       "LinearRegression()"
      ]
     },
     "execution_count": 17,
     "metadata": {},
     "output_type": "execute_result"
    }
   ],
   "source": [
    "#basleline model linear regrisson\n",
    "from sklearn.linear_model import LinearRegression\n",
    "from sklearn.metrics import mean_squared_error\n",
    "\n",
    "# Create and train the linear regression model\n",
    "model = LinearRegression()\n",
    "model.fit(x_tr, y_train)"
   ]
  },
  {
   "cell_type": "code",
   "execution_count": 18,
   "metadata": {},
   "outputs": [
    {
     "data": {
      "text/plain": [
       "array([1735.13378484, 1773.25898628, 1738.5095794 , 1752.57775746,\n",
       "       1698.55803462, 1730.71697123, 1829.18526481, 2003.1150055 ,\n",
       "       2031.88433324, 1904.43866105, 1999.08461142, 1915.41958798,\n",
       "       1805.80853378, 1872.34102596, 1817.6055151 , 1828.52041794,\n",
       "       1786.63279272, 1819.31421883, 1859.42199953, 1767.56784337,\n",
       "       1758.14126749, 1593.64610198, 1577.30729536, 1499.03170023,\n",
       "       1753.98827702, 1766.74412576, 1697.03765325, 1649.46335363,\n",
       "       1722.35996668, 1738.20609234, 1824.98201883, 1857.29095868,\n",
       "       1751.25680246, 1696.46445399, 1689.87737026, 1692.84544604,\n",
       "       1709.39398881, 1587.09418543, 1570.26835066, 1627.68491474,\n",
       "       1837.07902019, 1656.13546424, 1512.44024979, 1888.03702156,\n",
       "       1845.70193074, 1674.56499833, 1701.94255038, 1714.23578488,\n",
       "       1686.90536088, 1599.32659158, 1636.09968917, 1574.81807269,\n",
       "       1700.68806348, 1829.01706685, 1815.79213852, 1802.27767884,\n",
       "       1697.41432288, 1476.00496293, 1501.88480443, 1763.76671574,\n",
       "       1894.35331856, 1826.70522251, 1741.44571527, 1024.37986046,\n",
       "       1033.78237373, 1019.2337936 , 1047.4211181 , 1022.67808455,\n",
       "       1053.73276605, 1136.87292764, 1236.5478711 , 1304.65572362,\n",
       "       1094.59931099, 1272.50980511, 1148.12468249, 1113.93295389,\n",
       "       1168.84952876, 1043.60869288,  968.00474754,  988.52551432,\n",
       "       1096.36732547, 1112.96090447, 1045.92542172, 1057.04732043,\n",
       "        917.62233794,  927.31519795,  843.38647729,  997.56208845,\n",
       "       1034.23970429,  968.87231261,  946.85700769, 1032.40233444,\n",
       "       1066.62280668, 1110.84382241, 1206.28285613, 1024.16261943,\n",
       "        888.15282612, 1066.90669105, 1053.29861357,  889.49803815,\n",
       "        806.90316084,  791.72074716,  828.40246606, 1122.66150197,\n",
       "       1002.76278279,  896.79670832, 1169.64666511, 1138.102261  ,\n",
       "       1020.07313878, 1024.85654776, 1004.6020878 ,  962.70766008,\n",
       "        950.75156891,  967.22403842,  930.94509257,  978.22970829,\n",
       "       1064.28594925, 1108.20472938, 1209.88285139, 1077.6226767 ,\n",
       "        719.87149699,  747.32220408, 1044.39116912, 1156.21737159,\n",
       "       1083.38817446,  958.92981627, 1740.77224666, 1757.30992764,\n",
       "       1742.25328812, 1636.93082081, 1594.62410294, 1694.32979401,\n",
       "       1872.0876522 , 2057.09607251, 2079.96303204, 1873.65686032,\n",
       "       2048.98663295, 1858.10903671, 1876.42314405, 1913.93552291,\n",
       "       1827.50621377, 1756.16412125, 1684.04956765, 1829.33445136,\n",
       "       1911.31059462, 1832.08671853, 1809.41319685, 1595.29768257,\n",
       "       1512.57452885, 1369.1568789 , 1633.24680226, 1752.8151873 ,\n",
       "       1642.84873519, 1620.5139376 , 1655.82419482, 1664.44155609,\n",
       "       1839.29068782, 1824.49061425, 1681.89576662, 1446.53790762,\n",
       "       1740.05455168, 1643.72914237, 1441.33235992, 1264.03007221,\n",
       "       1374.21416323, 1283.84620215, 1730.13992692, 1502.13426816,\n",
       "       1473.66212051, 1840.83160013, 1875.6264525 , 1650.30457799,\n",
       "       1693.89517986, 1716.32356378, 1621.63732324, 1654.73961989,\n",
       "       1600.33301779, 1544.58189296, 1568.17914543, 1619.22335356,\n",
       "       1754.02266367, 1682.62950431, 1603.60300815, 1223.20918084,\n",
       "       1379.26239581, 1620.94987657, 1790.32729672, 1653.50992078,\n",
       "       1628.40586762,  689.70390313,  706.68033774,  702.38962276,\n",
       "        687.41528024,  654.35991211,  681.58654919,  711.17638857,\n",
       "        719.29835944,  741.26740675,  719.74019624,  730.42580636,\n",
       "        717.25722543,  715.12943077,  768.45913562,  763.79323376,\n",
       "        786.64547135,  749.37479014,  730.52253543,  743.44454637,\n",
       "        734.24462501,  750.96761123,  692.76287769,  648.16326935,\n",
       "        637.30808638,  693.9403345 ,  747.45808237,  690.57804543,\n",
       "        700.92469239,  662.01587399,  683.81155095,  660.30840869,\n",
       "        729.78955515,  665.4581285 ,  643.52469484,  711.96041355,\n",
       "        691.0427664 ,  714.27877958,  641.00665669,  671.11305605,\n",
       "        620.63088979,  656.18362086,  668.92383181,  637.95490181,\n",
       "        693.60928415,  705.74445171,  662.75546444,  713.48694576,\n",
       "        716.02287219,  711.10301726,  722.05886132,  680.34493919,\n",
       "        670.45811142,  639.28979738,  682.05324958,  694.74734361,\n",
       "        665.94576315,  672.41930109,  596.84258619,  632.42038236,\n",
       "        614.82559615,  696.38908688,  686.83818586,  687.5371374 ,\n",
       "        859.20950196,  865.65609279,  858.08125635,  891.46041718,\n",
       "        916.35044245,  889.55672549,  936.80139038, 1026.70556205,\n",
       "       1076.93496872,  985.47003415, 1025.49305121,  885.33305977,\n",
       "        897.36401016, 1034.53434304,  887.75653426,  909.01840987,\n",
       "        866.70925755,  960.09949102,  949.61026631,  898.62027371,\n",
       "        963.13614916,  836.30814275,  807.45935836,  706.4186029 ,\n",
       "        815.02766631,  899.57104888,  848.51637478,  809.99933417,\n",
       "        791.67471788,  830.82156854,  909.28725006,  904.69056015,\n",
       "        775.9940619 ,  603.72477109,  931.0795014 ,  842.51135627,\n",
       "        693.85543611,  506.61772956,  592.59758947,  517.74248299,\n",
       "        785.86097599,  730.494667  ,  705.83252246,  937.97313455,\n",
       "        961.64927624,  828.34163156,  873.80627608,  849.14776558,\n",
       "        809.86683563,  834.98189679,  806.05106192,  833.85286686,\n",
       "        811.73720497,  820.92769512,  915.95904886,  973.77973859,\n",
       "        761.13051528,  553.29057168,  634.82303953,  757.18043945,\n",
       "        867.83009017,  766.11815984,  753.07526187, 1243.97761944,\n",
       "       1232.40912011, 1247.25783019, 1281.326229  , 1296.19371693,\n",
       "       1282.313063  , 1353.69874802, 1521.83717892, 1551.54482005,\n",
       "       1435.19671698, 1458.6994437 , 1246.02959512, 1206.68175097,\n",
       "       1338.19508345, 1146.96226582, 1194.56893423, 1224.40189453,\n",
       "       1308.37943113, 1366.49650148, 1240.44955003, 1284.49099996,\n",
       "       1200.31216401, 1150.707419  , 1073.12437114, 1118.48860919,\n",
       "       1246.1728798 , 1181.39361564, 1197.00145677, 1168.70813301,\n",
       "       1242.58902455, 1337.70773657, 1361.28868214, 1336.89829926,\n",
       "       1008.65166693, 1286.25682371, 1247.75706049, 1003.26210559,\n",
       "        849.50798921,  886.65877511,  829.25725475, 1225.77560689,\n",
       "       1087.03514579,  999.68421616, 1315.30461053, 1263.59662916,\n",
       "       1148.10081249, 1158.14981536, 1146.37973788, 1136.56372848,\n",
       "       1148.4040127 , 1167.47266964, 1211.36737447, 1239.30320954,\n",
       "       1326.8416598 , 1334.11420448, 1325.12433317, 1136.91220593,\n",
       "        870.35096448,  997.72038483, 1227.27508217, 1339.11016152,\n",
       "       1263.79649303, 1193.94048296, 1025.8115363 , 1017.68649227,\n",
       "       1040.49768322, 1080.89438036, 1082.24388633, 1080.54987296,\n",
       "       1160.53953598, 1290.68368883, 1269.12305993, 1174.51571891,\n",
       "       1169.12161788,  911.55738487, 1118.93766076,  901.85717374,\n",
       "        891.85329743,  961.95706958, 1063.59706934, 1121.52530345,\n",
       "       1114.83345637, 1016.69604233, 1062.82664792,  974.21247885,\n",
       "        922.96404776,  828.60073989,  915.80200654, 1043.80283077,\n",
       "       1036.60231232, 1021.99808603, 1013.40281097, 1091.98329322,\n",
       "       1203.65746575, 1165.9191815 , 1132.33198655,  861.37322761,\n",
       "       1138.55227937,  972.64038963,  739.5240006 ,  617.40808929,\n",
       "        657.53837289,  651.5869592 ,  773.74389935,  810.09947326,\n",
       "        834.81032464, 1039.44575089, 1043.74640637,  930.2746703 ,\n",
       "        969.42161508,  988.93551353,  935.73742648,  994.29201928,\n",
       "        960.10710095,  969.59436919, 1014.39757475, 1062.56100217,\n",
       "       1131.57463407, 1108.79778475,  960.3850357 ,  802.26623815,\n",
       "       1095.99719715, 1091.43173955, 1124.42550676,  968.70608414,\n",
       "        899.45209256,  296.15176324,  307.52389347,  303.85441783,\n",
       "        304.87544139,  313.14966752,  291.30924108,  340.71807968,\n",
       "        385.37440238,  382.86551162,  376.20628459,  362.57478495,\n",
       "        331.376977  ,  360.07296421,  338.57926885,  330.00437181,\n",
       "        351.17156763,  367.1765195 ,  355.28001745,  322.3444008 ,\n",
       "        293.09397483,  321.78493228,  288.93611271,  265.00308506,\n",
       "        225.14487155,  260.80080719,  304.64434738,  295.07378422,\n",
       "        276.18759338,  250.81650174,  304.86483939,  350.64645427,\n",
       "        339.51893768,  332.76978847,  281.15966673,  355.9699185 ,\n",
       "        292.92019138,  282.31585802,  244.92153126,  251.03956778,\n",
       "        249.24074741,  245.40491882,  276.48991574,  252.22054586,\n",
       "        328.61112279,  327.40830833,  300.74577666,  301.30337915,\n",
       "        309.65239822,  270.83429985,  306.91411664,  291.59419945,\n",
       "        280.42453265,  258.01270597,  312.82046533,  344.3361252 ,\n",
       "        319.27029073,  283.14211303,  251.22276337,  295.54747979,\n",
       "        317.95556864,  341.35105234,  290.22624085,  305.62386813,\n",
       "        545.5007287 ,  557.23150175,  567.00045191,  608.89054602,\n",
       "        607.63065143,  603.43337389,  650.96553332,  720.5443993 ,\n",
       "        716.73017669,  708.54278876,  701.59694889,  643.98603534,\n",
       "        667.38683374,  625.88351897,  635.08742188,  662.9001601 ,\n",
       "        677.62525197,  653.30427325,  606.33550204,  524.43029128,\n",
       "        544.89444551,  522.2917666 ,  512.43127824,  499.93355238,\n",
       "        522.83050941,  569.8149099 ,  577.44983911,  569.89667612,\n",
       "        572.54407589,  640.45519916,  694.86468147,  700.63689467,\n",
       "        681.73375992,  589.51633507,  640.34525422,  594.40893194,\n",
       "        594.71281678,  528.23024986,  531.56807246,  536.35461316,\n",
       "        566.89067094,  514.70978502,  487.71412921,  603.98140964,\n",
       "        577.28502762,  516.2901987 ,  523.66210452,  526.3784167 ,\n",
       "        510.31875317,  525.04740339,  536.24185865,  537.32173071,\n",
       "        578.65563218,  609.09500015,  642.69535236,  621.0546986 ,\n",
       "        562.62691825,  531.05917156,  598.3785169 ,  638.41731381,\n",
       "        697.46653148,  591.98247942,  609.86806707, 4699.47440183,\n",
       "       4802.08663881, 4970.79547852, 5209.83053746, 5358.92697507,\n",
       "       5132.84540616, 5388.29077613, 6034.94997104, 6309.16817991,\n",
       "       6361.25184771, 6307.94292894, 5934.20982449, 5827.26267936,\n",
       "       5577.55216509, 5692.69157177, 6173.0508224 , 6124.93080807,\n",
       "       5821.23501046, 5331.05731868, 4591.16168051, 4691.66138702,\n",
       "       4504.03381083, 4281.61708013, 4202.49785482, 4411.64598731,\n",
       "       4856.1718984 , 4974.70156505, 4989.43081302, 4947.75712127,\n",
       "       5499.83412688, 5840.23508304, 6019.93921087, 5907.87073237,\n",
       "       5584.2586495 , 5450.39358358, 5178.87899133, 5737.05194513,\n",
       "       5441.58506218, 5426.01285705, 5364.14912008, 5531.24450759,\n",
       "       4657.83267643, 4280.00041389, 5123.15492496, 4889.31231991,\n",
       "       4385.87281189, 4426.36191479, 4493.92738445, 4416.2828631 ,\n",
       "       4623.30603204, 4648.73843073, 4792.20020057, 5088.14074829,\n",
       "       5356.11786542, 5565.91779364, 5370.35281946, 4961.98354722,\n",
       "       4734.00838147, 5617.47500546, 5887.11561173, 6052.7567116 ,\n",
       "       5763.16616345, 5771.53026336, 1917.70513293, 1951.05383796,\n",
       "       2041.94729595, 2107.25733981, 2182.05696201, 2136.56772567,\n",
       "       2264.10359769, 2534.90645482, 2650.36049031, 2453.25403367,\n",
       "       2367.32388614, 2067.56656547, 2427.94795917, 2136.14811374,\n",
       "       1981.68451134, 2058.61807258, 2135.88602065, 2138.09506546,\n",
       "       2071.28600339, 1864.78822437, 1982.47700052, 1834.43090549,\n",
       "       1760.70109017, 1605.75359263, 1777.78846843, 1985.57151905,\n",
       "       2014.84941618, 1992.07057472, 1974.69147646, 2240.24275847,\n",
       "       2445.91194567, 2440.04176744, 2380.69203692, 1899.27623455,\n",
       "       2273.16965817, 1926.58418746, 1740.28205736, 1483.97660893,\n",
       "       1577.87449347, 1593.54713216, 1974.17546418, 1705.19457453,\n",
       "       1566.53248658, 1991.00913019, 2023.02511977, 1778.71338758,\n",
       "       1817.06108947, 1857.0247922 , 1726.61006529, 1831.80597486,\n",
       "       1820.83044477, 1905.40522618, 2061.69357782, 2149.08192268,\n",
       "       2301.78809028, 2184.4664145 , 1985.63892839, 1743.0671263 ,\n",
       "       2112.62139024, 2208.69828357, 2433.75648563, 2046.10778659,\n",
       "       1857.99416568])"
      ]
     },
     "execution_count": 18,
     "metadata": {},
     "output_type": "execute_result"
    }
   ],
   "source": [
    "y_pred = model.predict(x_ts)\n",
    "y_pred"
   ]
  },
  {
   "cell_type": "code",
   "execution_count": 19,
   "metadata": {},
   "outputs": [],
   "source": [
    "from sklearn.metrics import mean_absolute_percentage_error\n",
    "from sklearn.metrics import mean_absolute_error\n",
    "def evaluate_model(y_test, y_pred):\n",
    "    test_mae = mean_absolute_error(y_test, y_pred)\n",
    "    test_mape = mean_absolute_percentage_error(y_test, y_pred)\n",
    "    return f\"MAE is {test_mae:.4f} and MAPE is: {test_mape:.4f}\""
   ]
  },
  {
   "cell_type": "code",
   "execution_count": 20,
   "metadata": {},
   "outputs": [
    {
     "data": {
      "text/plain": [
       "'MAE is 16.2229 and MAPE is: 0.0137'"
      ]
     },
     "execution_count": 20,
     "metadata": {},
     "output_type": "execute_result"
    }
   ],
   "source": [
    "evaluate_model(y_test, y_pred)"
   ]
  },
  {
   "cell_type": "code",
   "execution_count": 21,
   "metadata": {},
   "outputs": [],
   "source": [
    "import numpy as np\n",
    "from sklearn.model_selection import KFold, TimeSeriesSplit\n",
    "from sklearn.pipeline import make_pipeline\n",
    "from sklearn.metrics import mean_absolute_error\n",
    "import optuna\n",
    "\n",
    "from src.component.model_info import get_pipeline\n",
    "\n",
    "def objective(trial: optuna.trial.Trial) -> float:\n",
    "    \"\"\"\n",
    "    Given a set of hyper-parameters, it trains a model and computes an average\n",
    "    validation error based on a TimeSeriesSplit\n",
    "    \"\"\"\n",
    "    # pick hyper-parameters\n",
    "    hyperparams = {\n",
    "        \"metric\": 'mae',\n",
    "        \"verbose\": -1,\n",
    "        \"num_leaves\": trial.suggest_int(\"num_leaves\", 2, 256),\n",
    "        \"feature_fraction\": trial.suggest_float(\"feature_fraction\", 0.2, 1.0),\n",
    "        \"bagging_fraction\": trial.suggest_float(\"bagging_fraction\", 0.2, 1.0),\n",
    "        \"min_child_samples\": trial.suggest_int(\"min_child_samples\", 3, 100), \n",
    "        #\"learning_rate\": trial.suggest_float(\"learning_rate\", 1e-3, 1e-1, log=True)\n",
    "  \n",
    "    }\n",
    "       \n",
    "    tss = KFold(n_splits=5)\n",
    "    scores = []\n",
    "        \n",
    "    for train_index, val_index in tss.split(X_train):\n",
    "\n",
    "        # split data for training and validation\n",
    "        X_train_, X_val_ = X_train.iloc[train_index, :], X_train.iloc[val_index,:]\n",
    "        y_train_, y_val_ = y_train.iloc[train_index], y_train.iloc[val_index]\n",
    "        \n",
    "        # train the model\n",
    "        pipeline = get_pipeline(**hyperparams)\n",
    "        pipeline.fit(X_train_, y_train_)\n",
    "        \n",
    "        # evaluate the model\n",
    "        y_pred = pipeline.predict(X_val_)\n",
    "        mae = mean_absolute_error(y_val_, y_pred)\n",
    "\n",
    "        scores.append(mae)\n",
    "   \n",
    "    # Return the mean score\n",
    "    return np.array(scores).mean()"
   ]
  },
  {
   "cell_type": "code",
   "execution_count": 22,
   "metadata": {},
   "outputs": [
    {
     "name": "stderr",
     "output_type": "stream",
     "text": [
      "[I 2025-04-05 18:52:59,969] A new study created in memory with name: no-name-55e8cf10-9468-4f21-bf66-39575406d6c8\n",
      "[I 2025-04-05 18:53:28,218] Trial 0 finished with value: 357.29910339104987 and parameters: {'num_leaves': 100, 'feature_fraction': 0.5687202027191849, 'bagging_fraction': 0.7705502988047592, 'min_child_samples': 3}. Best is trial 0 with value: 357.29910339104987.\n",
      "[I 2025-04-05 18:53:42,906] Trial 1 finished with value: 355.42635693702846 and parameters: {'num_leaves': 151, 'feature_fraction': 0.38851901159394225, 'bagging_fraction': 0.700560549723001, 'min_child_samples': 68}. Best is trial 1 with value: 355.42635693702846.\n",
      "[I 2025-04-05 18:53:57,883] Trial 2 finished with value: 360.3768963375404 and parameters: {'num_leaves': 220, 'feature_fraction': 0.43624594142595374, 'bagging_fraction': 0.23039918197466047, 'min_child_samples': 88}. Best is trial 1 with value: 355.42635693702846.\n",
      "[I 2025-04-05 18:54:13,388] Trial 3 finished with value: 351.92955213667625 and parameters: {'num_leaves': 68, 'feature_fraction': 0.46120882717254075, 'bagging_fraction': 0.3347240436995579, 'min_child_samples': 26}. Best is trial 3 with value: 351.92955213667625.\n",
      "[I 2025-04-05 18:54:41,021] Trial 4 finished with value: 350.0290305468967 and parameters: {'num_leaves': 191, 'feature_fraction': 0.7125854464500763, 'bagging_fraction': 0.4837611212062033, 'min_child_samples': 53}. Best is trial 4 with value: 350.0290305468967.\n",
      "[I 2025-04-05 18:54:50,845] Trial 5 finished with value: 365.92064120694033 and parameters: {'num_leaves': 10, 'feature_fraction': 0.9989452669862764, 'bagging_fraction': 0.5013707518294781, 'min_child_samples': 95}. Best is trial 4 with value: 350.0290305468967.\n"
     ]
    }
   ],
   "source": [
    "import warnings\n",
    "warnings.filterwarnings(\"ignore\")\n",
    "\n",
    "study = optuna.create_study(direction=\"minimize\")\n",
    "study.optimize(objective, n_trials=6)"
   ]
  },
  {
   "cell_type": "code",
   "execution_count": 23,
   "metadata": {},
   "outputs": [
    {
     "name": "stdout",
     "output_type": "stream",
     "text": [
      "best_params={'num_leaves': 191, 'feature_fraction': 0.7125854464500763, 'bagging_fraction': 0.4837611212062033, 'min_child_samples': 53}\n"
     ]
    }
   ],
   "source": [
    "best_params = study.best_trial.params\n",
    "print(f'{best_params=}')"
   ]
  },
  {
   "cell_type": "code",
   "execution_count": 24,
   "metadata": {},
   "outputs": [],
   "source": [
    "pipeline = get_pipeline(**best_params)\n",
    "pipeline.fit(X_train, y_train);"
   ]
  },
  {
   "cell_type": "code",
   "execution_count": 25,
   "metadata": {},
   "outputs": [
    {
     "name": "stdout",
     "output_type": "stream",
     "text": [
      "test_mae=25.3364\n"
     ]
    }
   ],
   "source": [
    "from src.component.model_info import evaluate_model\n",
    "predictions = pipeline.predict(X_test)\n",
    "test_mae = mean_absolute_error(y_test, predictions)\n",
    "print(f'{test_mae=:.4f}')"
   ]
  },
  {
   "cell_type": "code",
   "execution_count": 26,
   "metadata": {},
   "outputs": [
    {
     "data": {
      "application/vnd.plotly.v1+json": {
       "config": {
        "plotlyServerURL": "https://plot.ly"
       },
       "data": [
        {
         "hovertemplate": "x=%{x}<br>y=%{y}<extra></extra>",
         "legendgroup": "",
         "line": {
          "color": "#636efa",
          "dash": "solid"
         },
         "marker": {
          "symbol": "circle"
         },
         "mode": "lines+markers",
         "name": "",
         "orientation": "v",
         "showlegend": false,
         "type": "scatter",
         "x": [
          "2025-01-08T06:00:00+00:00",
          "2025-01-08T07:00:00+00:00",
          "2025-01-08T08:00:00+00:00",
          "2025-01-08T09:00:00+00:00",
          "2025-01-08T10:00:00+00:00",
          "2025-01-08T11:00:00+00:00",
          "2025-01-08T12:00:00+00:00",
          "2025-01-08T13:00:00+00:00",
          "2025-01-08T14:00:00+00:00",
          "2025-01-08T15:00:00+00:00",
          "2025-01-08T16:00:00+00:00",
          "2025-01-08T17:00:00+00:00",
          "2025-01-08T18:00:00+00:00",
          "2025-01-08T19:00:00+00:00",
          "2025-01-08T20:00:00+00:00",
          "2025-01-08T21:00:00+00:00",
          "2025-01-08T22:00:00+00:00",
          "2025-01-08T23:00:00+00:00",
          "2025-01-09T00:00:00+00:00",
          "2025-01-09T01:00:00+00:00",
          "2025-01-09T02:00:00+00:00",
          "2025-01-09T03:00:00+00:00",
          "2025-01-09T04:00:00+00:00",
          "2025-01-09T05:00:00+00:00",
          "2025-01-09T06:00:00+00:00",
          "2025-01-09T07:00:00+00:00",
          "2025-01-09T08:00:00+00:00",
          "2025-01-09T09:00:00+00:00",
          "2025-01-09T10:00:00+00:00",
          "2025-01-09T11:00:00+00:00",
          "2025-01-09T12:00:00+00:00",
          "2025-01-09T13:00:00+00:00",
          "2025-01-09T14:00:00+00:00",
          "2025-01-09T15:00:00+00:00",
          "2025-01-09T16:00:00+00:00",
          "2025-01-09T17:00:00+00:00",
          "2025-01-09T18:00:00+00:00",
          "2025-01-09T19:00:00+00:00",
          "2025-01-09T20:00:00+00:00",
          "2025-01-09T21:00:00+00:00",
          "2025-01-09T22:00:00+00:00",
          "2025-01-09T23:00:00+00:00",
          "2025-01-10T00:00:00+00:00",
          "2025-01-10T01:00:00+00:00",
          "2025-01-10T02:00:00+00:00",
          "2025-01-10T03:00:00+00:00",
          "2025-01-10T04:00:00+00:00",
          "2025-01-10T05:00:00+00:00",
          "2025-01-10T06:00:00+00:00",
          "2025-01-10T07:00:00+00:00",
          "2025-01-10T08:00:00+00:00",
          "2025-01-10T09:00:00+00:00",
          "2025-01-10T10:00:00+00:00",
          "2025-01-10T11:00:00+00:00",
          "2025-01-10T12:00:00+00:00",
          "2025-01-10T13:00:00+00:00",
          "2025-01-10T14:00:00+00:00",
          "2025-01-10T15:00:00+00:00",
          "2025-01-10T16:00:00+00:00",
          "2025-01-10T17:00:00+00:00",
          "2025-01-10T18:00:00+00:00",
          "2025-01-10T19:00:00+00:00",
          "2025-01-10T20:00:00+00:00",
          "2025-01-10T21:00:00+00:00",
          "2025-01-10T22:00:00+00:00",
          "2025-01-10T23:00:00+00:00",
          "2025-01-11T00:00:00+00:00",
          "2025-01-11T01:00:00+00:00",
          "2025-01-11T02:00:00+00:00",
          "2025-01-11T03:00:00+00:00",
          "2025-01-11T04:00:00+00:00",
          "2025-01-11T05:00:00+00:00",
          "2025-01-11T06:00:00+00:00",
          "2025-01-11T07:00:00+00:00",
          "2025-01-11T08:00:00+00:00",
          "2025-01-11T09:00:00+00:00",
          "2025-01-11T10:00:00+00:00",
          "2025-01-11T11:00:00+00:00",
          "2025-01-11T12:00:00+00:00",
          "2025-01-11T13:00:00+00:00",
          "2025-01-11T14:00:00+00:00",
          "2025-01-11T15:00:00+00:00",
          "2025-01-11T16:00:00+00:00",
          "2025-01-11T17:00:00+00:00",
          "2025-01-11T18:00:00+00:00",
          "2025-01-11T19:00:00+00:00",
          "2025-01-11T20:00:00+00:00",
          "2025-01-11T21:00:00+00:00",
          "2025-01-11T22:00:00+00:00",
          "2025-01-11T23:00:00+00:00",
          "2025-01-12T00:00:00+00:00",
          "2025-01-12T01:00:00+00:00",
          "2025-01-12T02:00:00+00:00",
          "2025-01-12T03:00:00+00:00",
          "2025-01-12T04:00:00+00:00",
          "2025-01-12T05:00:00+00:00",
          "2025-01-12T06:00:00+00:00",
          "2025-01-12T07:00:00+00:00",
          "2025-01-12T08:00:00+00:00",
          "2025-01-12T09:00:00+00:00",
          "2025-01-12T10:00:00+00:00",
          "2025-01-12T11:00:00+00:00",
          "2025-01-12T12:00:00+00:00",
          "2025-01-12T13:00:00+00:00",
          "2025-01-12T14:00:00+00:00",
          "2025-01-12T15:00:00+00:00",
          "2025-01-12T16:00:00+00:00",
          "2025-01-12T17:00:00+00:00",
          "2025-01-12T18:00:00+00:00",
          "2025-01-12T19:00:00+00:00",
          "2025-01-12T20:00:00+00:00",
          "2025-01-12T21:00:00+00:00",
          "2025-01-12T22:00:00+00:00",
          "2025-01-12T23:00:00+00:00",
          "2025-01-13T00:00:00+00:00",
          "2025-01-13T01:00:00+00:00",
          "2025-01-13T02:00:00+00:00",
          "2025-01-13T03:00:00+00:00",
          "2025-01-13T04:00:00+00:00",
          "2025-01-13T05:00:00+00:00",
          "2025-01-13T06:00:00+00:00",
          "2025-01-13T07:00:00+00:00",
          "2025-01-13T08:00:00+00:00",
          "2025-01-13T09:00:00+00:00",
          "2025-01-13T10:00:00+00:00",
          "2025-01-13T11:00:00+00:00",
          "2025-01-13T12:00:00+00:00",
          "2025-01-13T13:00:00+00:00",
          "2025-01-13T14:00:00+00:00",
          "2025-01-13T15:00:00+00:00",
          "2025-01-13T16:00:00+00:00",
          "2025-01-13T17:00:00+00:00",
          "2025-01-13T18:00:00+00:00",
          "2025-01-13T19:00:00+00:00",
          "2025-01-13T20:00:00+00:00",
          "2025-01-13T21:00:00+00:00",
          "2025-01-13T22:00:00+00:00",
          "2025-01-13T23:00:00+00:00",
          "2025-01-14T00:00:00+00:00",
          "2025-01-14T01:00:00+00:00",
          "2025-01-14T02:00:00+00:00",
          "2025-01-14T03:00:00+00:00",
          "2025-01-14T04:00:00+00:00",
          "2025-01-14T05:00:00+00:00",
          "2025-01-14T06:00:00+00:00",
          "2025-01-14T07:00:00+00:00",
          "2025-01-14T08:00:00+00:00",
          "2025-01-14T09:00:00+00:00",
          "2025-01-14T10:00:00+00:00",
          "2025-01-14T11:00:00+00:00",
          "2025-01-14T12:00:00+00:00",
          "2025-01-14T13:00:00+00:00",
          "2025-01-14T14:00:00+00:00",
          "2025-01-14T15:00:00+00:00",
          "2025-01-14T16:00:00+00:00",
          "2025-01-14T17:00:00+00:00",
          "2025-01-14T18:00:00+00:00",
          "2025-01-14T19:00:00+00:00",
          "2025-01-14T20:00:00+00:00",
          "2025-01-14T21:00:00+00:00",
          "2025-01-14T22:00:00+00:00",
          "2025-01-14T23:00:00+00:00",
          "2025-01-15T00:00:00+00:00",
          "2025-01-15T01:00:00+00:00",
          "2025-01-15T02:00:00+00:00",
          "2025-01-15T03:00:00+00:00",
          "2025-01-15T04:00:00+00:00",
          "2025-01-15T05:00:00+00:00",
          "2025-01-15T06:00:00+00:00",
          "2025-01-15T07:00:00+00:00",
          "2025-01-15T08:00:00+00:00",
          "2025-01-15T09:00:00+00:00",
          "2025-01-15T10:00:00+00:00",
          "2025-01-15T11:00:00+00:00",
          "2025-01-15T12:00:00+00:00",
          "2025-01-15T13:00:00+00:00",
          "2025-01-15T14:00:00+00:00",
          "2025-01-15T15:00:00+00:00",
          "2025-01-15T16:00:00+00:00",
          "2025-01-15T17:00:00+00:00",
          "2025-01-15T18:00:00+00:00",
          "2025-01-15T19:00:00+00:00",
          "2025-01-15T20:00:00+00:00",
          "2025-01-15T21:00:00+00:00",
          "2025-01-15T22:00:00+00:00",
          "2025-01-15T23:00:00+00:00",
          "2025-01-16T00:00:00+00:00",
          "2025-01-16T01:00:00+00:00",
          "2025-01-16T02:00:00+00:00",
          "2025-01-16T03:00:00+00:00",
          "2025-01-16T04:00:00+00:00",
          "2025-01-16T05:00:00+00:00",
          "2025-01-16T06:00:00+00:00",
          "2025-01-16T07:00:00+00:00",
          "2025-01-16T08:00:00+00:00",
          "2025-01-16T09:00:00+00:00",
          "2025-01-16T10:00:00+00:00",
          "2025-01-16T11:00:00+00:00",
          "2025-01-16T12:00:00+00:00",
          "2025-01-16T13:00:00+00:00",
          "2025-01-16T14:00:00+00:00",
          "2025-01-16T15:00:00+00:00",
          "2025-01-16T16:00:00+00:00",
          "2025-01-16T17:00:00+00:00",
          "2025-01-16T18:00:00+00:00",
          "2025-01-16T19:00:00+00:00",
          "2025-01-16T20:00:00+00:00",
          "2025-01-16T21:00:00+00:00",
          "2025-01-16T22:00:00+00:00",
          "2025-01-16T23:00:00+00:00",
          "2025-01-17T00:00:00+00:00",
          "2025-01-17T01:00:00+00:00",
          "2025-01-17T02:00:00+00:00",
          "2025-01-17T03:00:00+00:00",
          "2025-01-17T04:00:00+00:00",
          "2025-01-17T05:00:00+00:00",
          "2025-01-17T06:00:00+00:00",
          "2025-01-17T07:00:00+00:00",
          "2025-01-17T08:00:00+00:00",
          "2025-01-17T09:00:00+00:00",
          "2025-01-17T10:00:00+00:00",
          "2025-01-17T11:00:00+00:00",
          "2025-01-17T12:00:00+00:00",
          "2025-01-17T13:00:00+00:00",
          "2025-01-17T14:00:00+00:00",
          "2025-01-17T15:00:00+00:00",
          "2025-01-17T16:00:00+00:00",
          "2025-01-17T17:00:00+00:00",
          "2025-01-17T18:00:00+00:00",
          "2025-01-17T19:00:00+00:00",
          "2025-01-17T20:00:00+00:00",
          "2025-01-17T21:00:00+00:00",
          "2025-01-17T22:00:00+00:00",
          "2025-01-17T23:00:00+00:00",
          "2025-01-18T00:00:00+00:00",
          "2025-01-18T01:00:00+00:00",
          "2025-01-18T02:00:00+00:00",
          "2025-01-18T03:00:00+00:00",
          "2025-01-18T04:00:00+00:00",
          "2025-01-18T05:00:00+00:00",
          "2025-01-18T06:00:00+00:00",
          "2025-01-18T07:00:00+00:00",
          "2025-01-18T08:00:00+00:00",
          "2025-01-18T09:00:00+00:00",
          "2025-01-18T10:00:00+00:00",
          "2025-01-18T11:00:00+00:00",
          "2025-01-18T12:00:00+00:00",
          "2025-01-18T13:00:00+00:00",
          "2025-01-18T14:00:00+00:00",
          "2025-01-18T15:00:00+00:00",
          "2025-01-18T16:00:00+00:00",
          "2025-01-18T17:00:00+00:00",
          "2025-01-18T18:00:00+00:00",
          "2025-01-18T19:00:00+00:00",
          "2025-01-18T20:00:00+00:00",
          "2025-01-18T21:00:00+00:00",
          "2025-01-18T22:00:00+00:00",
          "2025-01-18T23:00:00+00:00",
          "2025-01-19T00:00:00+00:00",
          "2025-01-19T01:00:00+00:00",
          "2025-01-19T02:00:00+00:00",
          "2025-01-19T03:00:00+00:00",
          "2025-01-19T04:00:00+00:00",
          "2025-01-19T05:00:00+00:00",
          "2025-01-19T06:00:00+00:00",
          "2025-01-19T07:00:00+00:00",
          "2025-01-19T08:00:00+00:00",
          "2025-01-19T09:00:00+00:00",
          "2025-01-19T10:00:00+00:00",
          "2025-01-19T11:00:00+00:00",
          "2025-01-19T12:00:00+00:00",
          "2025-01-19T13:00:00+00:00",
          "2025-01-19T14:00:00+00:00",
          "2025-01-19T15:00:00+00:00",
          "2025-01-19T16:00:00+00:00",
          "2025-01-19T17:00:00+00:00",
          "2025-01-19T18:00:00+00:00",
          "2025-01-19T19:00:00+00:00",
          "2025-01-19T20:00:00+00:00",
          "2025-01-19T21:00:00+00:00",
          "2025-01-19T22:00:00+00:00",
          "2025-01-19T23:00:00+00:00",
          "2025-01-20T00:00:00+00:00",
          "2025-01-20T01:00:00+00:00",
          "2025-01-20T02:00:00+00:00",
          "2025-01-20T03:00:00+00:00",
          "2025-01-20T04:00:00+00:00",
          "2025-01-20T05:00:00+00:00",
          "2025-01-20T06:00:00+00:00",
          "2025-01-20T07:00:00+00:00",
          "2025-01-20T08:00:00+00:00",
          "2025-01-20T09:00:00+00:00",
          "2025-01-20T10:00:00+00:00",
          "2025-01-20T11:00:00+00:00",
          "2025-01-20T12:00:00+00:00",
          "2025-01-20T13:00:00+00:00",
          "2025-01-20T14:00:00+00:00",
          "2025-01-20T15:00:00+00:00",
          "2025-01-20T16:00:00+00:00",
          "2025-01-20T17:00:00+00:00",
          "2025-01-20T18:00:00+00:00",
          "2025-01-20T19:00:00+00:00",
          "2025-01-20T20:00:00+00:00",
          "2025-01-20T21:00:00+00:00",
          "2025-01-20T22:00:00+00:00",
          "2025-01-20T23:00:00+00:00",
          "2025-01-21T00:00:00+00:00",
          "2025-01-21T01:00:00+00:00",
          "2025-01-21T02:00:00+00:00",
          "2025-01-21T03:00:00+00:00",
          "2025-01-21T04:00:00+00:00",
          "2025-01-21T05:00:00+00:00",
          "2025-01-21T06:00:00+00:00",
          "2025-01-21T07:00:00+00:00",
          "2025-01-21T08:00:00+00:00",
          "2025-01-21T09:00:00+00:00",
          "2025-01-21T10:00:00+00:00",
          "2025-01-21T11:00:00+00:00",
          "2025-01-21T12:00:00+00:00",
          "2025-01-21T13:00:00+00:00",
          "2025-01-21T14:00:00+00:00",
          "2025-01-21T15:00:00+00:00",
          "2025-01-21T16:00:00+00:00",
          "2025-01-21T17:00:00+00:00",
          "2025-01-21T18:00:00+00:00",
          "2025-01-21T19:00:00+00:00",
          "2025-01-21T20:00:00+00:00",
          "2025-01-21T21:00:00+00:00",
          "2025-01-21T22:00:00+00:00",
          "2025-01-21T23:00:00+00:00",
          "2025-01-22T00:00:00+00:00",
          "2025-01-22T01:00:00+00:00",
          "2025-01-22T02:00:00+00:00",
          "2025-01-22T03:00:00+00:00",
          "2025-01-22T04:00:00+00:00",
          "2025-01-22T05:00:00+00:00",
          "2025-01-22T06:00:00+00:00",
          "2025-01-22T07:00:00+00:00",
          "2025-01-22T08:00:00+00:00",
          "2025-01-22T09:00:00+00:00",
          "2025-01-22T10:00:00+00:00",
          "2025-01-22T11:00:00+00:00",
          "2025-01-22T12:00:00+00:00",
          "2025-01-22T13:00:00+00:00",
          "2025-01-22T14:00:00+00:00",
          "2025-01-22T15:00:00+00:00",
          "2025-01-22T16:00:00+00:00",
          "2025-01-22T17:00:00+00:00",
          "2025-01-22T18:00:00+00:00",
          "2025-01-22T19:00:00+00:00",
          "2025-01-22T20:00:00+00:00",
          "2025-01-22T21:00:00+00:00",
          "2025-01-22T22:00:00+00:00",
          "2025-01-22T23:00:00+00:00",
          "2025-01-23T00:00:00+00:00",
          "2025-01-23T01:00:00+00:00",
          "2025-01-23T02:00:00+00:00",
          "2025-01-23T03:00:00+00:00",
          "2025-01-23T04:00:00+00:00",
          "2025-01-23T05:00:00+00:00",
          "2025-01-23T06:00:00+00:00",
          "2025-01-23T07:00:00+00:00",
          "2025-01-23T08:00:00+00:00",
          "2025-01-23T09:00:00+00:00",
          "2025-01-23T10:00:00+00:00",
          "2025-01-23T11:00:00+00:00",
          "2025-01-23T12:00:00+00:00",
          "2025-01-23T13:00:00+00:00",
          "2025-01-23T14:00:00+00:00",
          "2025-01-23T15:00:00+00:00",
          "2025-01-23T16:00:00+00:00",
          "2025-01-23T17:00:00+00:00",
          "2025-01-23T18:00:00+00:00",
          "2025-01-23T19:00:00+00:00",
          "2025-01-23T20:00:00+00:00",
          "2025-01-23T21:00:00+00:00",
          "2025-01-23T22:00:00+00:00",
          "2025-01-23T23:00:00+00:00",
          "2025-01-24T00:00:00+00:00",
          "2025-01-24T01:00:00+00:00",
          "2025-01-24T02:00:00+00:00",
          "2025-01-24T03:00:00+00:00",
          "2025-01-24T04:00:00+00:00",
          "2025-01-24T05:00:00+00:00",
          "2025-01-24T06:00:00+00:00",
          "2025-01-24T07:00:00+00:00",
          "2025-01-24T08:00:00+00:00",
          "2025-01-24T09:00:00+00:00",
          "2025-01-24T10:00:00+00:00",
          "2025-01-24T11:00:00+00:00",
          "2025-01-24T12:00:00+00:00",
          "2025-01-24T13:00:00+00:00",
          "2025-01-24T14:00:00+00:00",
          "2025-01-24T15:00:00+00:00",
          "2025-01-24T16:00:00+00:00",
          "2025-01-24T17:00:00+00:00",
          "2025-01-24T18:00:00+00:00",
          "2025-01-24T19:00:00+00:00",
          "2025-01-24T20:00:00+00:00",
          "2025-01-24T21:00:00+00:00",
          "2025-01-24T22:00:00+00:00",
          "2025-01-24T23:00:00+00:00",
          "2025-01-25T00:00:00+00:00",
          "2025-01-25T01:00:00+00:00",
          "2025-01-25T02:00:00+00:00",
          "2025-01-25T03:00:00+00:00",
          "2025-01-25T04:00:00+00:00",
          "2025-01-25T05:00:00+00:00",
          "2025-01-25T06:00:00+00:00",
          "2025-01-25T07:00:00+00:00",
          "2025-01-25T08:00:00+00:00",
          "2025-01-25T09:00:00+00:00",
          "2025-01-25T10:00:00+00:00",
          "2025-01-25T11:00:00+00:00",
          "2025-01-25T12:00:00+00:00",
          "2025-01-25T13:00:00+00:00",
          "2025-01-25T14:00:00+00:00",
          "2025-01-25T15:00:00+00:00",
          "2025-01-25T16:00:00+00:00",
          "2025-01-25T17:00:00+00:00",
          "2025-01-25T18:00:00+00:00",
          "2025-01-25T19:00:00+00:00",
          "2025-01-25T20:00:00+00:00",
          "2025-01-25T21:00:00+00:00",
          "2025-01-25T22:00:00+00:00",
          "2025-01-25T23:00:00+00:00",
          "2025-01-26T00:00:00+00:00",
          "2025-01-26T01:00:00+00:00",
          "2025-01-26T02:00:00+00:00",
          "2025-01-26T03:00:00+00:00",
          "2025-01-26T04:00:00+00:00",
          "2025-01-26T05:00:00+00:00",
          "2025-01-26T06:00:00+00:00",
          "2025-01-26T07:00:00+00:00",
          "2025-01-26T08:00:00+00:00",
          "2025-01-26T09:00:00+00:00",
          "2025-01-26T10:00:00+00:00",
          "2025-01-26T11:00:00+00:00",
          "2025-01-26T12:00:00+00:00",
          "2025-01-26T13:00:00+00:00",
          "2025-01-26T14:00:00+00:00",
          "2025-01-26T15:00:00+00:00",
          "2025-01-26T16:00:00+00:00",
          "2025-01-26T17:00:00+00:00",
          "2025-01-26T18:00:00+00:00",
          "2025-01-26T19:00:00+00:00",
          "2025-01-26T20:00:00+00:00",
          "2025-01-26T21:00:00+00:00",
          "2025-01-26T22:00:00+00:00",
          "2025-01-26T23:00:00+00:00",
          "2025-01-27T00:00:00+00:00",
          "2025-01-27T01:00:00+00:00",
          "2025-01-27T02:00:00+00:00",
          "2025-01-27T03:00:00+00:00",
          "2025-01-27T04:00:00+00:00",
          "2025-01-27T05:00:00+00:00",
          "2025-01-27T06:00:00+00:00",
          "2025-01-27T07:00:00+00:00",
          "2025-01-27T08:00:00+00:00",
          "2025-01-27T09:00:00+00:00",
          "2025-01-27T10:00:00+00:00",
          "2025-01-27T11:00:00+00:00",
          "2025-01-27T12:00:00+00:00",
          "2025-01-27T13:00:00+00:00",
          "2025-01-27T14:00:00+00:00",
          "2025-01-27T15:00:00+00:00",
          "2025-01-27T16:00:00+00:00",
          "2025-01-27T17:00:00+00:00",
          "2025-01-27T18:00:00+00:00",
          "2025-01-27T19:00:00+00:00",
          "2025-01-27T20:00:00+00:00",
          "2025-01-27T21:00:00+00:00",
          "2025-01-27T22:00:00+00:00",
          "2025-01-27T23:00:00+00:00",
          "2025-01-28T00:00:00+00:00",
          "2025-01-28T01:00:00+00:00",
          "2025-01-28T02:00:00+00:00",
          "2025-01-28T03:00:00+00:00",
          "2025-01-28T04:00:00+00:00",
          "2025-01-28T05:00:00+00:00",
          "2025-01-28T06:00:00+00:00",
          "2025-01-28T07:00:00+00:00",
          "2025-01-28T08:00:00+00:00",
          "2025-01-28T09:00:00+00:00",
          "2025-01-28T10:00:00+00:00",
          "2025-01-28T11:00:00+00:00",
          "2025-01-28T12:00:00+00:00",
          "2025-01-28T13:00:00+00:00",
          "2025-01-28T14:00:00+00:00",
          "2025-01-28T15:00:00+00:00",
          "2025-01-28T16:00:00+00:00",
          "2025-01-28T17:00:00+00:00",
          "2025-01-28T18:00:00+00:00",
          "2025-01-28T19:00:00+00:00",
          "2025-01-28T20:00:00+00:00",
          "2025-01-28T21:00:00+00:00",
          "2025-01-28T22:00:00+00:00",
          "2025-01-28T23:00:00+00:00",
          "2025-01-29T00:00:00+00:00",
          "2025-01-29T01:00:00+00:00",
          "2025-01-29T02:00:00+00:00",
          "2025-01-29T03:00:00+00:00",
          "2025-01-29T04:00:00+00:00",
          "2025-01-29T05:00:00+00:00",
          "2025-01-29T06:00:00+00:00",
          "2025-01-29T07:00:00+00:00",
          "2025-01-29T08:00:00+00:00",
          "2025-01-29T09:00:00+00:00",
          "2025-01-29T10:00:00+00:00",
          "2025-01-29T11:00:00+00:00",
          "2025-01-29T12:00:00+00:00",
          "2025-01-29T13:00:00+00:00",
          "2025-01-29T14:00:00+00:00",
          "2025-01-29T15:00:00+00:00",
          "2025-01-29T16:00:00+00:00",
          "2025-01-29T17:00:00+00:00",
          "2025-01-29T18:00:00+00:00",
          "2025-01-29T19:00:00+00:00",
          "2025-01-29T20:00:00+00:00",
          "2025-01-29T21:00:00+00:00",
          "2025-01-29T22:00:00+00:00",
          "2025-01-29T23:00:00+00:00",
          "2025-01-30T00:00:00+00:00",
          "2025-01-30T01:00:00+00:00",
          "2025-01-30T02:00:00+00:00",
          "2025-01-30T03:00:00+00:00",
          "2025-01-30T04:00:00+00:00",
          "2025-01-30T05:00:00+00:00",
          "2025-01-30T06:00:00+00:00",
          "2025-01-30T07:00:00+00:00",
          "2025-01-30T08:00:00+00:00",
          "2025-01-30T09:00:00+00:00",
          "2025-01-30T10:00:00+00:00",
          "2025-01-30T11:00:00+00:00",
          "2025-01-30T12:00:00+00:00",
          "2025-01-30T13:00:00+00:00",
          "2025-01-30T14:00:00+00:00",
          "2025-01-30T15:00:00+00:00",
          "2025-01-30T16:00:00+00:00",
          "2025-01-30T17:00:00+00:00",
          "2025-01-30T18:00:00+00:00",
          "2025-01-30T19:00:00+00:00",
          "2025-01-30T20:00:00+00:00",
          "2025-01-30T21:00:00+00:00",
          "2025-01-30T22:00:00+00:00",
          "2025-01-30T23:00:00+00:00",
          "2025-01-31T00:00:00+00:00",
          "2025-01-31T01:00:00+00:00",
          "2025-01-31T02:00:00+00:00",
          "2025-01-31T03:00:00+00:00",
          "2025-01-31T04:00:00+00:00",
          "2025-01-31T05:00:00+00:00",
          "2025-01-31T06:00:00+00:00",
          "2025-01-31T07:00:00+00:00",
          "2025-01-31T08:00:00+00:00",
          "2025-01-31T09:00:00+00:00",
          "2025-01-31T10:00:00+00:00",
          "2025-01-31T11:00:00+00:00",
          "2025-01-31T12:00:00+00:00",
          "2025-01-31T13:00:00+00:00",
          "2025-01-31T14:00:00+00:00",
          "2025-01-31T15:00:00+00:00",
          "2025-01-31T16:00:00+00:00",
          "2025-01-31T17:00:00+00:00",
          "2025-01-31T18:00:00+00:00",
          "2025-01-31T19:00:00+00:00",
          "2025-01-31T20:00:00+00:00",
          "2025-01-31T21:00:00+00:00",
          "2025-01-31T22:00:00+00:00",
          "2025-01-31T23:00:00+00:00",
          "2025-02-01T00:00:00+00:00",
          "2025-02-01T01:00:00+00:00",
          "2025-02-01T02:00:00+00:00",
          "2025-02-01T03:00:00+00:00",
          "2025-02-01T04:00:00+00:00",
          "2025-02-01T05:00:00+00:00",
          "2025-02-01T06:00:00+00:00",
          "2025-02-01T07:00:00+00:00",
          "2025-02-01T08:00:00+00:00",
          "2025-02-01T09:00:00+00:00",
          "2025-02-01T10:00:00+00:00",
          "2025-02-01T11:00:00+00:00",
          "2025-02-01T12:00:00+00:00",
          "2025-02-01T13:00:00+00:00",
          "2025-02-01T14:00:00+00:00",
          "2025-02-01T15:00:00+00:00",
          "2025-02-01T16:00:00+00:00",
          "2025-02-01T17:00:00+00:00",
          "2025-02-01T18:00:00+00:00",
          "2025-02-01T19:00:00+00:00",
          "2025-02-01T20:00:00+00:00",
          "2025-02-01T21:00:00+00:00",
          "2025-02-01T22:00:00+00:00",
          "2025-02-01T23:00:00+00:00",
          "2025-02-02T00:00:00+00:00",
          "2025-02-02T01:00:00+00:00",
          "2025-02-02T02:00:00+00:00",
          "2025-02-02T03:00:00+00:00",
          "2025-02-02T04:00:00+00:00",
          "2025-02-02T05:00:00+00:00",
          "2025-02-02T06:00:00+00:00",
          "2025-02-02T07:00:00+00:00",
          "2025-02-02T08:00:00+00:00",
          "2025-02-02T09:00:00+00:00",
          "2025-02-02T10:00:00+00:00",
          "2025-02-02T11:00:00+00:00",
          "2025-02-02T12:00:00+00:00",
          "2025-02-02T13:00:00+00:00",
          "2025-02-02T14:00:00+00:00",
          "2025-02-02T15:00:00+00:00",
          "2025-02-02T16:00:00+00:00",
          "2025-02-02T17:00:00+00:00",
          "2025-02-02T18:00:00+00:00",
          "2025-02-02T19:00:00+00:00",
          "2025-02-02T20:00:00+00:00",
          "2025-02-02T21:00:00+00:00",
          "2025-02-02T22:00:00+00:00",
          "2025-02-02T23:00:00+00:00",
          "2025-02-03T00:00:00+00:00",
          "2025-02-03T01:00:00+00:00",
          "2025-02-03T02:00:00+00:00",
          "2025-02-03T03:00:00+00:00",
          "2025-02-03T04:00:00+00:00",
          "2025-02-03T05:00:00+00:00",
          "2025-02-03T06:00:00+00:00",
          "2025-02-03T07:00:00+00:00",
          "2025-02-03T08:00:00+00:00",
          "2025-02-03T09:00:00+00:00",
          "2025-02-03T10:00:00+00:00",
          "2025-02-03T11:00:00+00:00",
          "2025-02-03T12:00:00+00:00",
          "2025-02-03T13:00:00+00:00",
          "2025-02-03T14:00:00+00:00",
          "2025-02-03T15:00:00+00:00",
          "2025-02-03T16:00:00+00:00",
          "2025-02-03T17:00:00+00:00",
          "2025-02-03T18:00:00+00:00",
          "2025-02-03T19:00:00+00:00",
          "2025-02-03T20:00:00+00:00",
          "2025-02-03T21:00:00+00:00",
          "2025-02-03T22:00:00+00:00",
          "2025-02-03T23:00:00+00:00",
          "2025-02-04T00:00:00+00:00",
          "2025-02-04T01:00:00+00:00",
          "2025-02-04T02:00:00+00:00",
          "2025-02-04T03:00:00+00:00",
          "2025-02-04T04:00:00+00:00",
          "2025-02-04T05:00:00+00:00",
          "2025-02-04T06:00:00+00:00",
          "2025-02-04T07:00:00+00:00",
          "2025-02-04T08:00:00+00:00",
          "2025-02-04T09:00:00+00:00",
          "2025-02-04T10:00:00+00:00",
          "2025-02-04T11:00:00+00:00",
          "2025-02-04T12:00:00+00:00",
          "2025-02-04T13:00:00+00:00",
          "2025-02-04T14:00:00+00:00",
          "2025-02-04T15:00:00+00:00",
          "2025-02-04T16:00:00+00:00",
          "2025-02-04T17:00:00+00:00",
          "2025-02-04T18:00:00+00:00",
          "2025-02-04T19:00:00+00:00",
          "2025-02-04T20:00:00+00:00",
          "2025-02-04T21:00:00+00:00",
          "2025-02-04T22:00:00+00:00",
          "2025-02-04T23:00:00+00:00",
          "2025-02-05T00:00:00+00:00",
          "2025-02-05T01:00:00+00:00",
          "2025-02-05T02:00:00+00:00",
          "2025-02-05T03:00:00+00:00",
          "2025-02-05T04:00:00+00:00",
          "2025-02-05T05:00:00+00:00",
          "2025-02-05T06:00:00+00:00"
         ],
         "xaxis": "x",
         "y": [
          1584,
          1540,
          1520,
          1513,
          1515,
          1540,
          1604,
          1711,
          1811,
          1838,
          1867,
          1893,
          1913,
          1931,
          1925,
          1927,
          1921,
          1964,
          2016,
          1991,
          1970,
          1928,
          1851,
          1773,
          1682,
          1629,
          1594,
          1576,
          1562,
          1582,
          1648,
          1777,
          1878,
          1898,
          1906,
          1908,
          1879,
          1871,
          1883,
          1906,
          1917,
          1949,
          1987,
          1980,
          1976,
          1937,
          1872,
          1798,
          1712,
          1667,
          1629,
          1607,
          1602,
          1621,
          1680,
          1779,
          1869,
          1891,
          1909,
          1908,
          1862,
          1802,
          1831,
          1828,
          1826,
          1856,
          1904,
          1913,
          1900,
          1869,
          1820,
          1754,
          1674,
          1599,
          1555,
          1531,
          1520,
          1521,
          1545,
          1594,
          1663,
          1709,
          1746,
          1786,
          1810,
          1866,
          1880,
          1883,
          1897,
          1926,
          1967,
          1957,
          1925,
          1884,
          1835,
          1796,
          1799,
          1674,
          1628,
          1686,
          1671,
          1645,
          1694,
          1719,
          1695,
          1728,
          1756,
          1784,
          1800,
          1804,
          1817,
          1815,
          1845,
          1911,
          1998,
          2007,
          1981,
          1954,
          1908,
          1866,
          1809,
          1757,
          1730,
          1715,
          1723,
          1738,
          1769,
          1847,
          1907,
          1939,
          1924,
          1943,
          1946,
          1928,
          1913,
          1901,
          1905,
          1944,
          1986,
          2005,
          1969,
          1960,
          1894,
          1826,
          1741,
          1696,
          1679,
          1661,
          1663,
          1681,
          1694,
          1771,
          1858,
          1892,
          1920,
          1937,
          1933,
          1926,
          1916,
          1864,
          1862,
          1893,
          1957,
          1975,
          1946,
          1902,
          1873,
          1853,
          1798,
          1761,
          1735,
          1718,
          1721,
          1723,
          1758,
          1804,
          1877,
          1906,
          1951,
          1954,
          1948,
          1935,
          1917,
          1906,
          1908,
          1949,
          1988,
          1988,
          1938,
          1878,
          1802,
          1725,
          1674,
          1655,
          1639,
          1637,
          1649,
          1695,
          1777,
          1848,
          1873,
          1898,
          1921,
          1926,
          1940,
          1951,
          1949,
          1939,
          1967,
          2018,
          2014,
          1979,
          1934,
          1873,
          1807,
          1743,
          1690,
          1657,
          1645,
          1655,
          1677,
          1730,
          1810,
          1891,
          1933,
          1959,
          1986,
          1989,
          1975,
          1961,
          1956,
          1959,
          1970,
          2026,
          2048,
          2024,
          1996,
          1949,
          1867,
          1797,
          1741,
          1713,
          1694,
          1687,
          1690,
          1715,
          1757,
          1812,
          1854,
          1903,
          1911,
          1909,
          1909,
          1907,
          1908,
          1915,
          1934,
          1998,
          2006,
          1984,
          1954,
          1901,
          1843,
          1777,
          1725,
          1696,
          1674,
          1664,
          1660,
          1671,
          1703,
          1754,
          1784,
          1807,
          1808,
          1807,
          1799,
          1811,
          1829,
          1838,
          1877,
          1953,
          1967,
          1924,
          1910,
          1856,
          1801,
          1729,
          1698,
          1687,
          1683,
          1688,
          1710,
          1776,
          1882,
          1988,
          2007,
          2034,
          2042,
          2041,
          2026,
          2039,
          2015,
          1991,
          1996,
          2041,
          2043,
          2016,
          1969,
          1899,
          1816,
          1742,
          1688,
          1656,
          1639,
          1623,
          1637,
          1689,
          1795,
          1876,
          1899,
          1915,
          1941,
          1934,
          1914,
          1921,
          1906,
          1900,
          1909,
          1974,
          1970,
          1933,
          1876,
          1815,
          1733,
          1658,
          1608,
          1574,
          1564,
          1552,
          1571,
          1627,
          1733,
          1833,
          1855,
          1850,
          1857,
          1863,
          1843,
          1856,
          1854,
          1847,
          1869,
          1919,
          1913,
          1884,
          1840,
          1775,
          1703,
          1632,
          1576,
          1557,
          1538,
          1535,
          1560,
          1614,
          1720,
          1804,
          1843,
          1869,
          1861,
          1847,
          1820,
          1832,
          1833,
          1833,
          1860,
          1915,
          1918,
          1888,
          1848,
          1782,
          1709,
          1637,
          1593,
          1566,
          1558,
          1555,
          1587,
          1647,
          1747,
          1815,
          1840,
          1857,
          1912,
          1912,
          1917,
          1930,
          1916,
          1901,
          1927,
          1960,
          1955,
          1927,
          1894,
          1848,
          1773,
          1689,
          1623,
          1586,
          1565,
          1553,
          1558,
          1584,
          1634,
          1698,
          1732,
          1756,
          1764,
          1752,
          1736,
          1752,
          1757,
          1768,
          1800,
          1851,
          1854,
          1835,
          1808,
          1764,
          1708,
          1648,
          1603,
          1576,
          1560,
          1554,
          1556,
          1571,
          1601,
          1649,
          1678,
          1713,
          1750,
          1796,
          1814,
          1829,
          1840,
          1851,
          1882,
          1933,
          1930,
          1904,
          1867,
          1808,
          1750,
          1686,
          1643,
          1621,
          1612,
          1615,
          1643,
          1704,
          1821,
          1915,
          1955,
          1988,
          2011,
          2022,
          2025,
          2037,
          2021,
          1999,
          2012,
          2059,
          2072,
          2045,
          2003,
          1939,
          1831,
          1748,
          1696,
          1663,
          1648,
          1650,
          1679,
          1744,
          1856,
          1947,
          1988,
          2006,
          2009,
          2011,
          1978,
          1985,
          1980,
          1967,
          1989,
          2041,
          2058,
          2023,
          1969,
          1903,
          1824,
          1748,
          1709,
          1680,
          1660,
          1659,
          1678,
          1741,
          1859,
          1950,
          1949,
          1900,
          1887,
          1893,
          1898,
          1915,
          1905,
          1930,
          1968,
          2024,
          2048,
          2036,
          1990,
          1937,
          1862,
          1769,
          1700,
          1687,
          1663,
          1659,
          1686,
          1738,
          1847,
          1943,
          1989,
          2003,
          2023,
          2022,
          2013,
          2022,
          2020,
          1999,
          2002,
          2024,
          2025,
          2002,
          1963,
          1901,
          1813,
          1729,
          1670,
          1644,
          1629,
          1622,
          1640,
          1690,
          1807,
          1910,
          1940,
          1967,
          1965,
          1976,
          1961,
          1954,
          1952,
          1951,
          1966,
          1993,
          1993,
          1964,
          1933,
          1880,
          1820,
          1749,
          1684,
          1640,
          1614,
          1609,
          1619,
          1645,
          1694,
          1769,
          1807,
          1825,
          1806,
          1732,
          1644,
          1618,
          1611,
          1652,
          1757,
          1855,
          1904,
          1916,
          1879,
          1830,
          1769,
          1727,
          1686,
          1662,
          1646,
          1641,
          1651,
          1668,
          1704,
          1749,
          1756,
          1710,
          1665,
          1618,
          1574,
          1544,
          1542,
          1587,
          1709,
          1840,
          1904,
          1897,
          1877,
          1834,
          1783,
          1719,
          1677,
          1660,
          1651,
          1651,
          1672,
          1725,
          1833,
          1912,
          1926,
          1925,
          1934,
          1931,
          1919,
          1928,
          1901,
          1874,
          1912,
          2007,
          2054,
          2044,
          2001,
          1956,
          1900,
          1825,
          1770,
          1735,
          1726,
          1728,
          1762,
          1831,
          1969,
          2047,
          1997,
          1911,
          1886,
          1851,
          1799,
          1789,
          1798,
          1828,
          1918,
          2009,
          2073,
          2079,
          2047,
          1994,
          1892,
          1824,
          1770
         ],
         "yaxis": "y"
        },
        {
         "line": {
          "color": "green"
         },
         "marker": {
          "size": 10
         },
         "mode": "markers",
         "name": "actual value",
         "type": "scatter",
         "x": [
          "2025-02-05T06:00:00+00:00"
         ],
         "y": [
          1770
         ]
        },
        {
         "line": {
          "color": "red"
         },
         "marker": {
          "size": 15,
          "symbol": "x"
         },
         "mode": "markers",
         "name": "prediction",
         "type": "scatter",
         "x": [
          "2025-02-05T06:00:00+00:00"
         ],
         "y": [
          1736.8562224870916
         ]
        }
       ],
       "layout": {
        "legend": {
         "tracegroupgap": 0
        },
        "template": {
         "data": {
          "bar": [
           {
            "error_x": {
             "color": "#f2f5fa"
            },
            "error_y": {
             "color": "#f2f5fa"
            },
            "marker": {
             "line": {
              "color": "rgb(17,17,17)",
              "width": 0.5
             },
             "pattern": {
              "fillmode": "overlay",
              "size": 10,
              "solidity": 0.2
             }
            },
            "type": "bar"
           }
          ],
          "barpolar": [
           {
            "marker": {
             "line": {
              "color": "rgb(17,17,17)",
              "width": 0.5
             },
             "pattern": {
              "fillmode": "overlay",
              "size": 10,
              "solidity": 0.2
             }
            },
            "type": "barpolar"
           }
          ],
          "carpet": [
           {
            "aaxis": {
             "endlinecolor": "#A2B1C6",
             "gridcolor": "#506784",
             "linecolor": "#506784",
             "minorgridcolor": "#506784",
             "startlinecolor": "#A2B1C6"
            },
            "baxis": {
             "endlinecolor": "#A2B1C6",
             "gridcolor": "#506784",
             "linecolor": "#506784",
             "minorgridcolor": "#506784",
             "startlinecolor": "#A2B1C6"
            },
            "type": "carpet"
           }
          ],
          "choropleth": [
           {
            "colorbar": {
             "outlinewidth": 0,
             "ticks": ""
            },
            "type": "choropleth"
           }
          ],
          "contour": [
           {
            "colorbar": {
             "outlinewidth": 0,
             "ticks": ""
            },
            "colorscale": [
             [
              0,
              "#0d0887"
             ],
             [
              0.1111111111111111,
              "#46039f"
             ],
             [
              0.2222222222222222,
              "#7201a8"
             ],
             [
              0.3333333333333333,
              "#9c179e"
             ],
             [
              0.4444444444444444,
              "#bd3786"
             ],
             [
              0.5555555555555556,
              "#d8576b"
             ],
             [
              0.6666666666666666,
              "#ed7953"
             ],
             [
              0.7777777777777778,
              "#fb9f3a"
             ],
             [
              0.8888888888888888,
              "#fdca26"
             ],
             [
              1,
              "#f0f921"
             ]
            ],
            "type": "contour"
           }
          ],
          "contourcarpet": [
           {
            "colorbar": {
             "outlinewidth": 0,
             "ticks": ""
            },
            "type": "contourcarpet"
           }
          ],
          "heatmap": [
           {
            "colorbar": {
             "outlinewidth": 0,
             "ticks": ""
            },
            "colorscale": [
             [
              0,
              "#0d0887"
             ],
             [
              0.1111111111111111,
              "#46039f"
             ],
             [
              0.2222222222222222,
              "#7201a8"
             ],
             [
              0.3333333333333333,
              "#9c179e"
             ],
             [
              0.4444444444444444,
              "#bd3786"
             ],
             [
              0.5555555555555556,
              "#d8576b"
             ],
             [
              0.6666666666666666,
              "#ed7953"
             ],
             [
              0.7777777777777778,
              "#fb9f3a"
             ],
             [
              0.8888888888888888,
              "#fdca26"
             ],
             [
              1,
              "#f0f921"
             ]
            ],
            "type": "heatmap"
           }
          ],
          "heatmapgl": [
           {
            "colorbar": {
             "outlinewidth": 0,
             "ticks": ""
            },
            "colorscale": [
             [
              0,
              "#0d0887"
             ],
             [
              0.1111111111111111,
              "#46039f"
             ],
             [
              0.2222222222222222,
              "#7201a8"
             ],
             [
              0.3333333333333333,
              "#9c179e"
             ],
             [
              0.4444444444444444,
              "#bd3786"
             ],
             [
              0.5555555555555556,
              "#d8576b"
             ],
             [
              0.6666666666666666,
              "#ed7953"
             ],
             [
              0.7777777777777778,
              "#fb9f3a"
             ],
             [
              0.8888888888888888,
              "#fdca26"
             ],
             [
              1,
              "#f0f921"
             ]
            ],
            "type": "heatmapgl"
           }
          ],
          "histogram": [
           {
            "marker": {
             "pattern": {
              "fillmode": "overlay",
              "size": 10,
              "solidity": 0.2
             }
            },
            "type": "histogram"
           }
          ],
          "histogram2d": [
           {
            "colorbar": {
             "outlinewidth": 0,
             "ticks": ""
            },
            "colorscale": [
             [
              0,
              "#0d0887"
             ],
             [
              0.1111111111111111,
              "#46039f"
             ],
             [
              0.2222222222222222,
              "#7201a8"
             ],
             [
              0.3333333333333333,
              "#9c179e"
             ],
             [
              0.4444444444444444,
              "#bd3786"
             ],
             [
              0.5555555555555556,
              "#d8576b"
             ],
             [
              0.6666666666666666,
              "#ed7953"
             ],
             [
              0.7777777777777778,
              "#fb9f3a"
             ],
             [
              0.8888888888888888,
              "#fdca26"
             ],
             [
              1,
              "#f0f921"
             ]
            ],
            "type": "histogram2d"
           }
          ],
          "histogram2dcontour": [
           {
            "colorbar": {
             "outlinewidth": 0,
             "ticks": ""
            },
            "colorscale": [
             [
              0,
              "#0d0887"
             ],
             [
              0.1111111111111111,
              "#46039f"
             ],
             [
              0.2222222222222222,
              "#7201a8"
             ],
             [
              0.3333333333333333,
              "#9c179e"
             ],
             [
              0.4444444444444444,
              "#bd3786"
             ],
             [
              0.5555555555555556,
              "#d8576b"
             ],
             [
              0.6666666666666666,
              "#ed7953"
             ],
             [
              0.7777777777777778,
              "#fb9f3a"
             ],
             [
              0.8888888888888888,
              "#fdca26"
             ],
             [
              1,
              "#f0f921"
             ]
            ],
            "type": "histogram2dcontour"
           }
          ],
          "mesh3d": [
           {
            "colorbar": {
             "outlinewidth": 0,
             "ticks": ""
            },
            "type": "mesh3d"
           }
          ],
          "parcoords": [
           {
            "line": {
             "colorbar": {
              "outlinewidth": 0,
              "ticks": ""
             }
            },
            "type": "parcoords"
           }
          ],
          "pie": [
           {
            "automargin": true,
            "type": "pie"
           }
          ],
          "scatter": [
           {
            "marker": {
             "line": {
              "color": "#283442"
             }
            },
            "type": "scatter"
           }
          ],
          "scatter3d": [
           {
            "line": {
             "colorbar": {
              "outlinewidth": 0,
              "ticks": ""
             }
            },
            "marker": {
             "colorbar": {
              "outlinewidth": 0,
              "ticks": ""
             }
            },
            "type": "scatter3d"
           }
          ],
          "scattercarpet": [
           {
            "marker": {
             "colorbar": {
              "outlinewidth": 0,
              "ticks": ""
             }
            },
            "type": "scattercarpet"
           }
          ],
          "scattergeo": [
           {
            "marker": {
             "colorbar": {
              "outlinewidth": 0,
              "ticks": ""
             }
            },
            "type": "scattergeo"
           }
          ],
          "scattergl": [
           {
            "marker": {
             "line": {
              "color": "#283442"
             }
            },
            "type": "scattergl"
           }
          ],
          "scattermapbox": [
           {
            "marker": {
             "colorbar": {
              "outlinewidth": 0,
              "ticks": ""
             }
            },
            "type": "scattermapbox"
           }
          ],
          "scatterpolar": [
           {
            "marker": {
             "colorbar": {
              "outlinewidth": 0,
              "ticks": ""
             }
            },
            "type": "scatterpolar"
           }
          ],
          "scatterpolargl": [
           {
            "marker": {
             "colorbar": {
              "outlinewidth": 0,
              "ticks": ""
             }
            },
            "type": "scatterpolargl"
           }
          ],
          "scatterternary": [
           {
            "marker": {
             "colorbar": {
              "outlinewidth": 0,
              "ticks": ""
             }
            },
            "type": "scatterternary"
           }
          ],
          "surface": [
           {
            "colorbar": {
             "outlinewidth": 0,
             "ticks": ""
            },
            "colorscale": [
             [
              0,
              "#0d0887"
             ],
             [
              0.1111111111111111,
              "#46039f"
             ],
             [
              0.2222222222222222,
              "#7201a8"
             ],
             [
              0.3333333333333333,
              "#9c179e"
             ],
             [
              0.4444444444444444,
              "#bd3786"
             ],
             [
              0.5555555555555556,
              "#d8576b"
             ],
             [
              0.6666666666666666,
              "#ed7953"
             ],
             [
              0.7777777777777778,
              "#fb9f3a"
             ],
             [
              0.8888888888888888,
              "#fdca26"
             ],
             [
              1,
              "#f0f921"
             ]
            ],
            "type": "surface"
           }
          ],
          "table": [
           {
            "cells": {
             "fill": {
              "color": "#506784"
             },
             "line": {
              "color": "rgb(17,17,17)"
             }
            },
            "header": {
             "fill": {
              "color": "#2a3f5f"
             },
             "line": {
              "color": "rgb(17,17,17)"
             }
            },
            "type": "table"
           }
          ]
         },
         "layout": {
          "annotationdefaults": {
           "arrowcolor": "#f2f5fa",
           "arrowhead": 0,
           "arrowwidth": 1
          },
          "autotypenumbers": "strict",
          "coloraxis": {
           "colorbar": {
            "outlinewidth": 0,
            "ticks": ""
           }
          },
          "colorscale": {
           "diverging": [
            [
             0,
             "#8e0152"
            ],
            [
             0.1,
             "#c51b7d"
            ],
            [
             0.2,
             "#de77ae"
            ],
            [
             0.3,
             "#f1b6da"
            ],
            [
             0.4,
             "#fde0ef"
            ],
            [
             0.5,
             "#f7f7f7"
            ],
            [
             0.6,
             "#e6f5d0"
            ],
            [
             0.7,
             "#b8e186"
            ],
            [
             0.8,
             "#7fbc41"
            ],
            [
             0.9,
             "#4d9221"
            ],
            [
             1,
             "#276419"
            ]
           ],
           "sequential": [
            [
             0,
             "#0d0887"
            ],
            [
             0.1111111111111111,
             "#46039f"
            ],
            [
             0.2222222222222222,
             "#7201a8"
            ],
            [
             0.3333333333333333,
             "#9c179e"
            ],
            [
             0.4444444444444444,
             "#bd3786"
            ],
            [
             0.5555555555555556,
             "#d8576b"
            ],
            [
             0.6666666666666666,
             "#ed7953"
            ],
            [
             0.7777777777777778,
             "#fb9f3a"
            ],
            [
             0.8888888888888888,
             "#fdca26"
            ],
            [
             1,
             "#f0f921"
            ]
           ],
           "sequentialminus": [
            [
             0,
             "#0d0887"
            ],
            [
             0.1111111111111111,
             "#46039f"
            ],
            [
             0.2222222222222222,
             "#7201a8"
            ],
            [
             0.3333333333333333,
             "#9c179e"
            ],
            [
             0.4444444444444444,
             "#bd3786"
            ],
            [
             0.5555555555555556,
             "#d8576b"
            ],
            [
             0.6666666666666666,
             "#ed7953"
            ],
            [
             0.7777777777777778,
             "#fb9f3a"
            ],
            [
             0.8888888888888888,
             "#fdca26"
            ],
            [
             1,
             "#f0f921"
            ]
           ]
          },
          "colorway": [
           "#636efa",
           "#EF553B",
           "#00cc96",
           "#ab63fa",
           "#FFA15A",
           "#19d3f3",
           "#FF6692",
           "#B6E880",
           "#FF97FF",
           "#FECB52"
          ],
          "font": {
           "color": "#f2f5fa"
          },
          "geo": {
           "bgcolor": "rgb(17,17,17)",
           "lakecolor": "rgb(17,17,17)",
           "landcolor": "rgb(17,17,17)",
           "showlakes": true,
           "showland": true,
           "subunitcolor": "#506784"
          },
          "hoverlabel": {
           "align": "left"
          },
          "hovermode": "closest",
          "mapbox": {
           "style": "dark"
          },
          "paper_bgcolor": "rgb(17,17,17)",
          "plot_bgcolor": "rgb(17,17,17)",
          "polar": {
           "angularaxis": {
            "gridcolor": "#506784",
            "linecolor": "#506784",
            "ticks": ""
           },
           "bgcolor": "rgb(17,17,17)",
           "radialaxis": {
            "gridcolor": "#506784",
            "linecolor": "#506784",
            "ticks": ""
           }
          },
          "scene": {
           "xaxis": {
            "backgroundcolor": "rgb(17,17,17)",
            "gridcolor": "#506784",
            "gridwidth": 2,
            "linecolor": "#506784",
            "showbackground": true,
            "ticks": "",
            "zerolinecolor": "#C8D4E3"
           },
           "yaxis": {
            "backgroundcolor": "rgb(17,17,17)",
            "gridcolor": "#506784",
            "gridwidth": 2,
            "linecolor": "#506784",
            "showbackground": true,
            "ticks": "",
            "zerolinecolor": "#C8D4E3"
           },
           "zaxis": {
            "backgroundcolor": "rgb(17,17,17)",
            "gridcolor": "#506784",
            "gridwidth": 2,
            "linecolor": "#506784",
            "showbackground": true,
            "ticks": "",
            "zerolinecolor": "#C8D4E3"
           }
          },
          "shapedefaults": {
           "line": {
            "color": "#f2f5fa"
           }
          },
          "sliderdefaults": {
           "bgcolor": "#C8D4E3",
           "bordercolor": "rgb(17,17,17)",
           "borderwidth": 1,
           "tickwidth": 0
          },
          "ternary": {
           "aaxis": {
            "gridcolor": "#506784",
            "linecolor": "#506784",
            "ticks": ""
           },
           "baxis": {
            "gridcolor": "#506784",
            "linecolor": "#506784",
            "ticks": ""
           },
           "bgcolor": "rgb(17,17,17)",
           "caxis": {
            "gridcolor": "#506784",
            "linecolor": "#506784",
            "ticks": ""
           }
          },
          "title": {
           "x": 0.05
          },
          "updatemenudefaults": {
           "bgcolor": "#506784",
           "borderwidth": 0
          },
          "xaxis": {
           "automargin": true,
           "gridcolor": "#283442",
           "linecolor": "#506784",
           "ticks": "",
           "title": {
            "standoff": 15
           },
           "zerolinecolor": "#283442",
           "zerolinewidth": 2
          },
          "yaxis": {
           "automargin": true,
           "gridcolor": "#283442",
           "linecolor": "#506784",
           "ticks": "",
           "title": {
            "standoff": 15
           },
           "zerolinecolor": "#283442",
           "zerolinewidth": 2
          }
         }
        },
        "title": {
         "text": "demand hour r=2025-02-05 06:00:00+00:00, sub regions=0"
        },
        "xaxis": {
         "anchor": "y",
         "domain": [
          0,
          1
         ],
         "title": {
          "text": "x"
         }
        },
        "yaxis": {
         "anchor": "x",
         "domain": [
          0,
          1
         ],
         "title": {
          "text": "y"
         }
        }
       }
      }
     },
     "metadata": {},
     "output_type": "display_data"
    }
   ],
   "source": [
    "#plot the result\n",
    "from src.plot import plot_one_sample\n",
    "\n",
    "plot_one_sample(\n",
    "    example_id=1,\n",
    "    features=X_test,\n",
    "    targets=y_test,\n",
    "    predictions=pd.Series(predictions)\n",
    ")"
   ]
  },
  {
   "cell_type": "code",
   "execution_count": 27,
   "metadata": {},
   "outputs": [
    {
     "data": {
      "text/plain": [
       "['D:\\\\projects\\\\electricity_demand_predictor-main\\\\models\\\\LGB_model.pkl']"
      ]
     },
     "execution_count": 27,
     "metadata": {},
     "output_type": "execute_result"
    }
   ],
   "source": [
    "import joblib\n",
    "from src.paths import MODELS_DIR\n",
    "\n",
    "joblib.dump(pipeline, MODELS_DIR /'LGB_model.pkl')"
   ]
  },
  {
   "cell_type": "code",
   "execution_count": 28,
   "metadata": {},
   "outputs": [],
   "source": [
    "#in order to save to model for model registoy we have to create scema first\n",
    "from hsml.schema import Schema\n",
    "from hsml.model_schema import ModelSchema\n",
    "\n",
    "input_schema = Schema(X_train)\n",
    "output_schema = Schema(y_train)\n",
    "model_schema = ModelSchema(input_schema=input_schema, output_schema=output_schema)"
   ]
  },
  {
   "cell_type": "code",
   "execution_count": 29,
   "metadata": {},
   "outputs": [
    {
     "data": {
      "application/vnd.jupyter.widget-view+json": {
       "model_id": "4dce2aa55f894ac78c27a257857a01b5",
       "version_major": 2,
       "version_minor": 0
      },
      "text/plain": [
       "  0%|          | 0/6 [00:00<?, ?it/s]"
      ]
     },
     "metadata": {},
     "output_type": "display_data"
    },
    {
     "data": {
      "application/vnd.jupyter.widget-view+json": {
       "model_id": "5fc410e7200d408389c6a1daf5b10e5b",
       "version_major": 2,
       "version_minor": 0
      },
      "text/plain": [
       "Uploading: 0.000%|          | 0/1131174 elapsed<00:00 remaining<?"
      ]
     },
     "metadata": {},
     "output_type": "display_data"
    },
    {
     "data": {
      "application/vnd.jupyter.widget-view+json": {
       "model_id": "0182958dcb644ba38009779917fdd31b",
       "version_major": 2,
       "version_minor": 0
      },
      "text/plain": [
       "Uploading: 0.000%|          | 0/5154 elapsed<00:00 remaining<?"
      ]
     },
     "metadata": {},
     "output_type": "display_data"
    },
    {
     "data": {
      "application/vnd.jupyter.widget-view+json": {
       "model_id": "8008c512848644f385ed8f0cd60e94a7",
       "version_major": 2,
       "version_minor": 0
      },
      "text/plain": [
       "Uploading: 0.000%|          | 0/61601 elapsed<00:00 remaining<?"
      ]
     },
     "metadata": {},
     "output_type": "display_data"
    },
    {
     "name": "stdout",
     "output_type": "stream",
     "text": [
      "Model created, explore it at https://c.app.hopsworks.ai:443/p/1213640/models/electricity_demand_predictor_next_hour/2\n"
     ]
    },
    {
     "data": {
      "text/plain": [
       "Model(name: 'electricity_demand_predictor_next_hour', version: 2)"
      ]
     },
     "execution_count": 29,
     "metadata": {},
     "output_type": "execute_result"
    }
   ],
   "source": [
    "model_registry = project.get_model_registry()\n",
    "\n",
    "model = model_registry.sklearn.create_model(\n",
    "    name=\"electricity_demand_predictor_next_hour\",\n",
    "    metrics={\"test_mae\": test_mae},\n",
    "    description=\"LightGBM regressor with a bit of hyper-parameter tuning\",\n",
    "    input_example=X_train.sample(),\n",
    "    model_schema=model_schema\n",
    ")\n",
    "\n",
    "model.save(str(MODELS_DIR /'LGB_model.pkl'))"
   ]
  },
  {
   "cell_type": "code",
   "execution_count": null,
   "metadata": {},
   "outputs": [],
   "source": []
  }
 ],
 "metadata": {
  "kernelspec": {
   "display_name": "src-o1faXYQI-py3.12",
   "language": "python",
   "name": "python3"
  },
  "language_info": {
   "codemirror_mode": {
    "name": "ipython",
    "version": 3
   },
   "file_extension": ".py",
   "mimetype": "text/x-python",
   "name": "python",
   "nbconvert_exporter": "python",
   "pygments_lexer": "ipython3",
   "version": "3.11.4"
  }
 },
 "nbformat": 4,
 "nbformat_minor": 2
}
